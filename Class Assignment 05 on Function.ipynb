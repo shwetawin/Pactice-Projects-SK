{
 "cells": [
  {
   "cell_type": "markdown",
   "id": "6a731c3a",
   "metadata": {},
   "source": [
    "    q1 : Try to print a prime number in between 1 to 1000\n",
    "    q2 : Try to write a function which  is equivalent  to print function in python\n",
    "    q3 : Try to write a function which is a replica of list append , extend and pop function \n",
    "    q4 : Try to write a lambda function which can return a concatination of all the string that we will pass\n",
    "    q5 : Try to write a lambda function which can return list of square of all the data between 1-100 \n",
    "    q6 : Try to write a 10 Different different example of lambda function with a choice of your taks \n",
    "    q7 : Try to wwrite a funtion whihc can perform a read operation from .txt file \n",
    "        \n",
    "        shivan@ineuron.ai\n",
    "        sudhashu@ineuron.ai\n"
   ]
  },
  {
   "cell_type": "markdown",
   "id": "f110169b",
   "metadata": {},
   "source": [
    "# q1 : Try to print a prime number in between 1 to 1000"
   ]
  },
  {
   "cell_type": "code",
   "execution_count": 7,
   "id": "bb603073",
   "metadata": {},
   "outputs": [
    {
     "name": "stdout",
     "output_type": "stream",
     "text": [
      " 2 ,  3 ,  5 ,  7 ,  11 ,  13 ,  17 ,  19 ,  23 ,  29 ,  31 ,  37 ,  41 ,  43 ,  47 ,  53 ,  59 ,  61 ,  67 ,  71 ,  73 ,  79 ,  83 ,  89 ,  97 ,  101 ,  103 ,  107 ,  109 ,  113 ,  127 ,  131 ,  137 ,  139 ,  149 ,  151 ,  157 ,  163 ,  167 ,  173 ,  179 ,  181 ,  191 ,  193 ,  197 ,  199 ,  211 ,  223 ,  227 ,  229 ,  233 ,  239 ,  241 ,  251 ,  257 ,  263 ,  269 ,  271 ,  277 ,  281 ,  283 ,  293 ,  307 ,  311 ,  313 ,  317 ,  331 ,  337 ,  347 ,  349 ,  353 ,  359 ,  367 ,  373 ,  379 ,  383 ,  389 ,  397 ,  401 ,  409 ,  419 ,  421 ,  431 ,  433 ,  439 ,  443 ,  449 ,  457 ,  461 ,  463 ,  467 ,  479 ,  487 ,  491 ,  499 ,  503 ,  509 ,  521 ,  523 ,  541 ,  547 ,  557 ,  563 ,  569 ,  571 ,  577 ,  587 ,  593 ,  599 ,  601 ,  607 ,  613 ,  617 ,  619 ,  631 ,  641 ,  643 ,  647 ,  653 ,  659 ,  661 ,  673 ,  677 ,  683 ,  691 ,  701 ,  709 ,  719 ,  727 ,  733 ,  739 ,  743 ,  751 ,  757 ,  761 ,  769 ,  773 ,  787 ,  797 ,  809 ,  811 ,  821 ,  823 ,  827 ,  829 ,  839 ,  853 ,  857 ,  859 ,  863 ,  877 ,  881 ,  883 ,  887 ,  907 ,  911 ,  919 ,  929 ,  937 ,  941 ,  947 ,  953 ,  967 ,  971 ,  977 ,  983 ,  991 ,  997 , "
     ]
    }
   ],
   "source": [
    "for Number in range (1, 1001):\n",
    "    count = 0\n",
    "    for i in range(2, (Number//2 + 1)):\n",
    "        if(Number % i == 0):\n",
    "            count = count + 1\n",
    "            break\n",
    "\n",
    "    if (count == 0 and Number != 1):\n",
    "        print(\" %d\" %Number, end = ' , ')"
   ]
  },
  {
   "cell_type": "markdown",
   "id": "a7e3aa49",
   "metadata": {},
   "source": [
    "# q2 : Try to write a function which  is equivalent  to print function in python"
   ]
  },
  {
   "cell_type": "code",
   "execution_count": 14,
   "id": "0b7fa4e8",
   "metadata": {},
   "outputs": [
    {
     "name": "stdout",
     "output_type": "stream",
     "text": [
      " This need to print\n"
     ]
    }
   ],
   "source": [
    "def myprint ():\n",
    "        print(\" This need to print\")\n",
    "\n",
    "myprint ()\n",
    "    \n",
    "    "
   ]
  },
  {
   "cell_type": "code",
   "execution_count": 15,
   "id": "3faccbfb",
   "metadata": {},
   "outputs": [
    {
     "name": "stdout",
     "output_type": "stream",
     "text": [
      " please enter the message here : This code is improved version\n"
     ]
    },
    {
     "data": {
      "text/plain": [
       "'This code is improved version'"
      ]
     },
     "execution_count": 15,
     "metadata": {},
     "output_type": "execute_result"
    }
   ],
   "source": [
    "# code 2\n",
    "def myprint ():\n",
    "    a= input( \" please enter the message here : \")\n",
    "    return (a)\n",
    "\n",
    "myprint ()"
   ]
  },
  {
   "cell_type": "markdown",
   "id": "cc602082",
   "metadata": {},
   "source": [
    "#    q3 : Try to write a function which is a replica of list append , extend and pop function "
   ]
  },
  {
   "cell_type": "code",
   "execution_count": 158,
   "id": "18d9e35a",
   "metadata": {},
   "outputs": [
    {
     "ename": "SyntaxError",
     "evalue": "'return' outside function (Temp/ipykernel_4460/3049665779.py, line 3)",
     "output_type": "error",
     "traceback": [
      "\u001b[1;36m  File \u001b[1;32m\"C:\\Users\\SHWETA~1\\AppData\\Local\\Temp/ipykernel_4460/3049665779.py\"\u001b[1;36m, line \u001b[1;32m3\u001b[0m\n\u001b[1;33m    return l\u001b[0m\n\u001b[1;37m    ^\u001b[0m\n\u001b[1;31mSyntaxError\u001b[0m\u001b[1;31m:\u001b[0m 'return' outside function\n"
     ]
    }
   ],
   "source": [
    "def appendshw(n):\n",
    "    l.append (n)\n",
    "return l\n",
    "appendshw()\n"
   ]
  },
  {
   "cell_type": "code",
   "execution_count": 155,
   "id": "af4bcd9e",
   "metadata": {},
   "outputs": [
    {
     "data": {
      "text/plain": [
       "[1, 2, 3, 4, 6]"
      ]
     },
     "execution_count": 155,
     "metadata": {},
     "output_type": "execute_result"
    }
   ],
   "source": [
    "l=[1,2,3,4,6]\n",
    "l"
   ]
  },
  {
   "cell_type": "markdown",
   "id": "595ccd13",
   "metadata": {},
   "source": [
    "# q4 : Try to write a lambda function which can return a concatination of all the string that we will pass"
   ]
  },
  {
   "cell_type": "code",
   "execution_count": 17,
   "id": "bc33652f",
   "metadata": {},
   "outputs": [
    {
     "data": {
      "text/plain": [
       "'**cocacola**'"
      ]
     },
     "execution_count": 17,
     "metadata": {},
     "output_type": "execute_result"
    }
   ],
   "source": [
    "b= lambda c,d : c+ d\n",
    "b(\"**coca\",\"cola**\")"
   ]
  },
  {
   "cell_type": "markdown",
   "id": "f7b08c6e",
   "metadata": {},
   "source": [
    "# q5 : Try to write a lambda function which can return list of square of all the data between 1-100 "
   ]
  },
  {
   "cell_type": "code",
   "execution_count": 43,
   "id": "d6fd2118",
   "metadata": {},
   "outputs": [
    {
     "name": "stdout",
     "output_type": "stream",
     "text": [
      "[1, 4, 9, 16, 25, 36, 49, 64, 81, 100, 121, 144, 169, 196, 225, 256, 289, 324, 361, 400, 441, 484, 529, 576, 625, 676, 729, 784, 841, 900, 961, 1024, 1089, 1156, 1225, 1296, 1369, 1444, 1521, 1600, 1681, 1764, 1849, 1936, 2025, 2116, 2209, 2304, 2401, 2500, 2601, 2704, 2809, 2916, 3025, 3136, 3249, 3364, 3481, 3600, 3721, 3844, 3969, 4096, 4225, 4356, 4489, 4624, 4761, 4900, 5041, 5184, 5329, 5476, 5625, 5776, 5929, 6084, 6241, 6400, 6561, 6724, 6889, 7056, 7225, 7396, 7569, 7744, 7921, 8100, 8281, 8464, 8649, 8836, 9025, 9216, 9409, 9604, 9801]\n"
     ]
    }
   ],
   "source": [
    "def square(): \n",
    "\tprint([i**2 for i in range(1,100)]) \n",
    " \n",
    "square() "
   ]
  },
  {
   "cell_type": "code",
   "execution_count": 55,
   "id": "0808593d",
   "metadata": {},
   "outputs": [
    {
     "data": {
      "text/plain": [
       "[1,\n",
       " 4,\n",
       " 9,\n",
       " 16,\n",
       " 25,\n",
       " 36,\n",
       " 49,\n",
       " 64,\n",
       " 81,\n",
       " 100,\n",
       " 121,\n",
       " 144,\n",
       " 169,\n",
       " 196,\n",
       " 225,\n",
       " 256,\n",
       " 289,\n",
       " 324,\n",
       " 361,\n",
       " 400,\n",
       " 441,\n",
       " 484,\n",
       " 529,\n",
       " 576,\n",
       " 625,\n",
       " 676,\n",
       " 729,\n",
       " 784,\n",
       " 841,\n",
       " 900,\n",
       " 961,\n",
       " 1024,\n",
       " 1089,\n",
       " 1156,\n",
       " 1225,\n",
       " 1296,\n",
       " 1369,\n",
       " 1444,\n",
       " 1521,\n",
       " 1600,\n",
       " 1681,\n",
       " 1764,\n",
       " 1849,\n",
       " 1936,\n",
       " 2025,\n",
       " 2116,\n",
       " 2209,\n",
       " 2304,\n",
       " 2401,\n",
       " 2500,\n",
       " 2601,\n",
       " 2704,\n",
       " 2809,\n",
       " 2916,\n",
       " 3025,\n",
       " 3136,\n",
       " 3249,\n",
       " 3364,\n",
       " 3481,\n",
       " 3600,\n",
       " 3721,\n",
       " 3844,\n",
       " 3969,\n",
       " 4096,\n",
       " 4225,\n",
       " 4356,\n",
       " 4489,\n",
       " 4624,\n",
       " 4761,\n",
       " 4900,\n",
       " 5041,\n",
       " 5184,\n",
       " 5329,\n",
       " 5476,\n",
       " 5625,\n",
       " 5776,\n",
       " 5929,\n",
       " 6084,\n",
       " 6241,\n",
       " 6400,\n",
       " 6561,\n",
       " 6724,\n",
       " 6889,\n",
       " 7056,\n",
       " 7225,\n",
       " 7396,\n",
       " 7569,\n",
       " 7744,\n",
       " 7921,\n",
       " 8100,\n",
       " 8281,\n",
       " 8464,\n",
       " 8649,\n",
       " 8836,\n",
       " 9025,\n",
       " 9216,\n",
       " 9409,\n",
       " 9604,\n",
       " 9801]"
      ]
     },
     "execution_count": 55,
     "metadata": {},
     "output_type": "execute_result"
    }
   ],
   "source": [
    "A=lambda *b: [b**2 for b in range(1,100)]\n",
    "A( )\n",
    "   "
   ]
  },
  {
   "cell_type": "markdown",
   "id": "cf0fbd5c",
   "metadata": {},
   "source": [
    "# q6 : Try to write a 10 Different different example of lambda function with a choice of your taks "
   ]
  },
  {
   "cell_type": "code",
   "execution_count": 65,
   "id": "0022597e",
   "metadata": {},
   "outputs": [
    {
     "data": {
      "text/plain": [
       "15"
      ]
     },
     "execution_count": 65,
     "metadata": {},
     "output_type": "execute_result"
    }
   ],
   "source": [
    "# 1\n",
    "l = lambda a, b, c: a + b+ c\n",
    "l(4,5,6)\n"
   ]
  },
  {
   "cell_type": "code",
   "execution_count": 66,
   "id": "9956ad28",
   "metadata": {},
   "outputs": [
    {
     "data": {
      "text/plain": [
       "1.5"
      ]
     },
     "execution_count": 66,
     "metadata": {},
     "output_type": "execute_result"
    }
   ],
   "source": [
    "# 2\n",
    "l = lambda a, b, c: (a + b) /c\n",
    "l(4,5,6)"
   ]
  },
  {
   "cell_type": "code",
   "execution_count": 87,
   "id": "6ed98a15",
   "metadata": {},
   "outputs": [
    {
     "name": "stdout",
     "output_type": "stream",
     "text": [
      "[34, 345, 96, 45, 67, 45]\n"
     ]
    }
   ],
   "source": [
    "# 3\n",
    "list1 = [23,34,10,345,96,45,67 ,4,9 ,45]\n",
    "a = filter (lambda x: x > 32, list1)\n",
    "print (list(a))"
   ]
  },
  {
   "cell_type": "code",
   "execution_count": 95,
   "id": "6dc8f006",
   "metadata": {},
   "outputs": [
    {
     "data": {
      "text/plain": [
       "False"
      ]
     },
     "execution_count": 95,
     "metadata": {},
     "output_type": "execute_result"
    }
   ],
   "source": [
    "#4\n",
    "c = lambda x: True if x/3 >= 4 else False\n",
    "c(9)\n"
   ]
  },
  {
   "cell_type": "code",
   "execution_count": 101,
   "id": "65c565f9",
   "metadata": {},
   "outputs": [
    {
     "data": {
      "text/plain": [
       "[41, 45, 57, 91]"
      ]
     },
     "execution_count": 101,
     "metadata": {},
     "output_type": "execute_result"
    }
   ],
   "source": [
    "#5\n",
    "l2 = [41, 22, 32, 64, 45, 64, 57, 18, 91, 10]\n",
    "\n",
    "z = filter(lambda x: x % 2 != 0, l2)\n",
    "\n",
    "list(z)\n",
    "\n"
   ]
  },
  {
   "cell_type": "code",
   "execution_count": 114,
   "id": "6bfef647",
   "metadata": {},
   "outputs": [
    {
     "name": "stdout",
     "output_type": "stream",
     "text": [
      "4\n",
      "8\n",
      "12\n",
      "16\n",
      "20\n",
      "24\n",
      "28\n",
      "32\n",
      "36\n",
      "40\n"
     ]
    }
   ],
   "source": [
    "#6 Table of 4\n",
    "table = [lambda x= x: x*4 for x in range(1, 11)]\n",
    "  \n",
    "for i in table:\n",
    "    print(i())\n"
   ]
  },
  {
   "cell_type": "code",
   "execution_count": 136,
   "id": "87a3c3bd",
   "metadata": {},
   "outputs": [
    {
     "name": "stdout",
     "output_type": "stream",
     "text": [
      "[28, 29, 47, 18]\n"
     ]
    }
   ],
   "source": [
    "#7  Identify wheather person is adult or not\n",
    "\n",
    "ages_List = [28,29,10,9,12,47,18]\n",
    "adult = list(filter(lambda a: a >=18, ages_List))\n",
    "print(adult)"
   ]
  },
  {
   "cell_type": "code",
   "execution_count": 135,
   "id": "bf1315b6",
   "metadata": {},
   "outputs": [
    {
     "name": "stdout",
     "output_type": "stream",
     "text": [
      "['NAGPUR', 'PUNE', 'MUMBAI', 'GOA']\n"
     ]
    }
   ],
   "source": [
    "#8 write the List element in upper case\n",
    "\n",
    "city = [\"nagpur\",\"Pune\",\"Mumbai\",\"goa\"]\n",
    "up_case = list(map(lambda city: str.upper(city), city))\n",
    "print(up_case)"
   ]
  },
  {
   "cell_type": "code",
   "execution_count": 152,
   "id": "3c90f26e",
   "metadata": {},
   "outputs": [
    {
     "name": "stdout",
     "output_type": "stream",
     "text": [
      "Good Morning : Good Morning : Good Morning : \n"
     ]
    }
   ],
   "source": [
    "#10 Define shweta_K as a lambda function: shweta_K\n",
    "shweta_K = (lambda word1,shweta : word1 * shweta)\n",
    "result = shweta_K('Good Morning : ', 3)\n",
    "print(result)"
   ]
  },
  {
   "cell_type": "markdown",
   "id": "5cf4a33a",
   "metadata": {},
   "source": [
    "# q7 : Try to write a funtion which  can perform a read operation from .txt file "
   ]
  },
  {
   "cell_type": "code",
   "execution_count": 145,
   "id": "22428dab",
   "metadata": {},
   "outputs": [
    {
     "name": "stdout",
     "output_type": "stream",
     "text": [
      "I am working on my assignment given in the class.\n"
     ]
    }
   ],
   "source": [
    "file1 = open(\"C:\\\\Users\\\\Shweta Kanhere\\\\Desktop\\\\current work\\\\pythontest.txt\", \"r\")\n",
    "print(file1.read())"
   ]
  },
  {
   "cell_type": "code",
   "execution_count": 156,
   "id": "3fb61794",
   "metadata": {},
   "outputs": [
    {
     "name": "stdout",
     "output_type": "stream",
     "text": [
      "I am working on my assignment given in the class.\n"
     ]
    }
   ],
   "source": [
    "def fun1():\n",
    "    file1 = open(\"C:\\\\Users\\\\Shweta Kanhere\\\\Desktop\\\\current work\\\\pythontest.txt\", \"r\")\n",
    "    print(file1.read())\n",
    "fun1()\n",
    "    "
   ]
  }
 ],
 "metadata": {
  "kernelspec": {
   "display_name": "Python 3 (ipykernel)",
   "language": "python",
   "name": "python3"
  },
  "language_info": {
   "codemirror_mode": {
    "name": "ipython",
    "version": 3
   },
   "file_extension": ".py",
   "mimetype": "text/x-python",
   "name": "python",
   "nbconvert_exporter": "python",
   "pygments_lexer": "ipython3",
   "version": "3.9.7"
  }
 },
 "nbformat": 4,
 "nbformat_minor": 5
}
