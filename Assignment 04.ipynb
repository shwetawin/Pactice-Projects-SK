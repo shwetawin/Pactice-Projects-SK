{
 "cells": [
  {
   "cell_type": "markdown",
   "id": "2cd4e1a5",
   "metadata": {},
   "source": [
    "1. What exactly is []?\n",
    "2. In a list of values stored in a variable called spam, how would you assign the value 'hello' as the third value? (Assume [2, 4, 6, 8, 10] are in spam.)\n",
    "Let's pretend the spam includes the list ['a', 'b', 'c', 'd'] for the next three queries.\n",
    "3. What is the value of spam[int(int('3' * 2) / 11)]?\n",
    "4. What is the value of spam[-1]?\n",
    "5. What is the value of spam[:2]?\n",
    "Let's pretend bacon has the list [3.14, 'cat,' 11, 'cat,' True] for the next three questions.\n",
    "6. What is the value of bacon.index('cat')?\n",
    "7. How does bacon.append(99) change the look of the list value in bacon?\n",
    "8. How does bacon.remove('cat') change the look of the list in bacon?\n",
    "9. What are the list concatenation and list replication operators?\n",
    "10. What is difference between the list methods append() and insert()?\n",
    "11. What are the two methods for removing items from a list?\n",
    "12. Describe how list values and string values are identical.\n",
    "13. What's the difference between tuples and lists?\n",
    "14. How do you type a tuple value that only contains the integer 42?\n",
    "15. How do you get a list value's tuple form? How do you get a tuple value's list form?\n",
    "16. Variables that \"contain\" list values are not necessarily lists themselves. Instead, what do they contain?\n",
    "17. How do you distinguish between copy.copy() and copy.deepcopy()?\n",
    "\n"
   ]
  },
  {
   "cell_type": "code",
   "execution_count": null,
   "id": "940d3aed",
   "metadata": {},
   "outputs": [],
   "source": [
    "#1. What exactly is []?"
   ]
  },
  {
   "cell_type": "markdown",
   "id": "56bf15eb",
   "metadata": {},
   "source": [
    "this is a empty list means a  list that contains no items. "
   ]
  },
  {
   "cell_type": "code",
   "execution_count": null,
   "id": "24002fb4",
   "metadata": {},
   "outputs": [],
   "source": [
    "# 2. In a list of values stored in a variable called spam, how would you assign the value 'hello' as the third value? (Assume [2, 4, 6, 8, 10] are in spam.)"
   ]
  },
  {
   "cell_type": "code",
   "execution_count": 4,
   "id": "d8589fcc",
   "metadata": {},
   "outputs": [
    {
     "data": {
      "text/plain": [
       "[2, 4, 'hello', 8, 10]"
      ]
     },
     "execution_count": 4,
     "metadata": {},
     "output_type": "execute_result"
    }
   ],
   "source": [
    "spam = [2, 4, 6, 8, 10]\n",
    "spam[2]= 'hello'\n",
    "spam"
   ]
  },
  {
   "cell_type": "code",
   "execution_count": null,
   "id": "83f72c95",
   "metadata": {},
   "outputs": [],
   "source": [
    "#Let's pretend the spam includes the list ['a', 'b', 'c', 'd'] for the next three queries."
   ]
  },
  {
   "cell_type": "code",
   "execution_count": 9,
   "id": "b0461a4c",
   "metadata": {},
   "outputs": [],
   "source": [
    "spam =  ['a', 'b', 'c', 'd']\n",
    "#3. What is the value of spam[int(int('3' * 2) / 11)]?\n"
   ]
  },
  {
   "cell_type": "markdown",
   "id": "59ce5f27",
   "metadata": {},
   "source": [
    "Ans: int('3' * 2)---------------33\n",
    "    int('3' * 2) / 11----------3.0\n",
    "    int(int('3' * 2) / 11)-------3\n",
    "    spam[int(int('3' * 2) / 11)]= spam[3]---------'d'"
   ]
  },
  {
   "cell_type": "code",
   "execution_count": null,
   "id": "4a7e339a",
   "metadata": {},
   "outputs": [],
   "source": [
    "#4. What is the value of spam[-1]?..........ans : 'd'"
   ]
  },
  {
   "cell_type": "code",
   "execution_count": 11,
   "id": "9a92d2db",
   "metadata": {},
   "outputs": [
    {
     "data": {
      "text/plain": [
       "'d'"
      ]
     },
     "execution_count": 11,
     "metadata": {},
     "output_type": "execute_result"
    }
   ],
   "source": [
    "spam[-1]"
   ]
  },
  {
   "cell_type": "code",
   "execution_count": null,
   "id": "093108b5",
   "metadata": {},
   "outputs": [],
   "source": [
    "#5. What is the value of spam[:2]?..........ans: ['a','b']"
   ]
  },
  {
   "cell_type": "code",
   "execution_count": 12,
   "id": "4ae225eb",
   "metadata": {},
   "outputs": [
    {
     "data": {
      "text/plain": [
       "['a', 'b']"
      ]
     },
     "execution_count": 12,
     "metadata": {},
     "output_type": "execute_result"
    }
   ],
   "source": [
    "spam[:2]"
   ]
  },
  {
   "cell_type": "code",
   "execution_count": null,
   "id": "0a3f0002",
   "metadata": {},
   "outputs": [],
   "source": [
    "#Let's pretend bacon has the list [3.14, 'cat,' 11, 'cat,' True] for the next three questions."
   ]
  },
  {
   "cell_type": "code",
   "execution_count": 2,
   "id": "8240769a",
   "metadata": {},
   "outputs": [
    {
     "data": {
      "text/plain": [
       "[3.14, 'cat', 11, 'cat,True']"
      ]
     },
     "execution_count": 2,
     "metadata": {},
     "output_type": "execute_result"
    }
   ],
   "source": [
    "bacon=[3.14, 'cat', 11, 'cat,' 'True']\n",
    "bacon"
   ]
  },
  {
   "cell_type": "code",
   "execution_count": null,
   "id": "2811aac2",
   "metadata": {},
   "outputs": [],
   "source": [
    "#6. What is the value of bacon.index('cat')?\n",
    "# ans : index is 1 or -4 "
   ]
  },
  {
   "cell_type": "code",
   "execution_count": 3,
   "id": "17234bd2",
   "metadata": {},
   "outputs": [
    {
     "data": {
      "text/plain": [
       "[3.14, 'cat', 11, 'cat,True', 99]"
      ]
     },
     "execution_count": 3,
     "metadata": {},
     "output_type": "execute_result"
    }
   ],
   "source": [
    "#7. How does change the look of the list value in bacon?\n",
    "# ans :[3.14, 'cat', 11, 'cat,True', 99]\n",
    "bacon.append(99)\n",
    "bacon"
   ]
  },
  {
   "cell_type": "code",
   "execution_count": 4,
   "id": "ccd10b27",
   "metadata": {},
   "outputs": [
    {
     "data": {
      "text/plain": [
       "[3.14, 11, 'cat,True', 99]"
      ]
     },
     "execution_count": 4,
     "metadata": {},
     "output_type": "execute_result"
    }
   ],
   "source": [
    "#8. How does bacon.remove('cat') change the look of the list in bacon?------[3.14, 11, 'cat,True', 99]\n",
    "bacon.remove('cat')  # it remove first cat value.\n",
    "bacon"
   ]
  },
  {
   "cell_type": "code",
   "execution_count": null,
   "id": "513e1717",
   "metadata": {},
   "outputs": [],
   "source": [
    "#9. What are the list concatenation and list replication operators?"
   ]
  },
  {
   "cell_type": "markdown",
   "id": "3209ddde",
   "metadata": {},
   "source": [
    "The operator for list concatenation is +, while the operator for replication is *. (This is the same as for strings.)\n",
    "In concatentation only run time changes takes place.original list must not change"
   ]
  },
  {
   "cell_type": "code",
   "execution_count": 24,
   "id": "45e30187",
   "metadata": {},
   "outputs": [
    {
     "data": {
      "text/plain": [
       "['shweta', 1, 33, ' ram', 'kanhere', 24, 'shyam']"
      ]
     },
     "execution_count": 24,
     "metadata": {},
     "output_type": "execute_result"
    }
   ],
   "source": [
    "#EXAMPLE of list concatenatio\n",
    "l1=[ 'shweta',1,33,\" ram\"]\n",
    "l2= [\"kanhere\", 24, 'shyam']\n",
    "c=l1+l2\n",
    "c\n"
   ]
  },
  {
   "cell_type": "code",
   "execution_count": 25,
   "id": "00d7100f",
   "metadata": {},
   "outputs": [
    {
     "data": {
      "text/plain": [
       "['kanhere', 24, 'shyam', 'kanhere', 24, 'shyam', 'kanhere', 24, 'shyam']"
      ]
     },
     "execution_count": 25,
     "metadata": {},
     "output_type": "execute_result"
    }
   ],
   "source": [
    "#EXAMPLE of list concatenatio\n",
    "d=l2*3\n",
    "d"
   ]
  },
  {
   "cell_type": "code",
   "execution_count": 23,
   "id": "1f0d8d19",
   "metadata": {},
   "outputs": [
    {
     "data": {
      "text/plain": [
       "['kanhere', 24, 'shyam', 'kanhere', 24, 'shyam', 'kanhere', 24, 'shyam']"
      ]
     },
     "execution_count": 23,
     "metadata": {},
     "output_type": "execute_result"
    }
   ],
   "source": []
  },
  {
   "cell_type": "code",
   "execution_count": 17,
   "id": "2403ae81",
   "metadata": {},
   "outputs": [],
   "source": [
    "#10. What is difference between the list methods append() and insert()?"
   ]
  },
  {
   "cell_type": "markdown",
   "id": "2b9773cd",
   "metadata": {},
   "source": [
    "While append() will add values only to the end of a list, insert() can add them anywhere in the list where we give the position like insert(position, new_entry),insert expected 2 arguments."
   ]
  },
  {
   "cell_type": "code",
   "execution_count": 27,
   "id": "f45fcd1a",
   "metadata": {},
   "outputs": [
    {
     "data": {
      "text/plain": [
       "[23, 45, 'shweta', 'kanhere']"
      ]
     },
     "execution_count": 27,
     "metadata": {},
     "output_type": "execute_result"
    }
   ],
   "source": [
    "# example for append\n",
    "z=[ 23,45,\"shweta\"]\n",
    "z.append(\"kanhere\")\n",
    "z\n"
   ]
  },
  {
   "cell_type": "code",
   "execution_count": 29,
   "id": "52cc5a07",
   "metadata": {},
   "outputs": [
    {
     "data": {
      "text/plain": [
       "[23, 'kanhere', 45, 'shweta']"
      ]
     },
     "execution_count": 29,
     "metadata": {},
     "output_type": "execute_result"
    }
   ],
   "source": [
    "# example for insert\n",
    "z=[ 23,45,\"shweta\"]\n",
    "z.insert(1,\"kanhere\")\n",
    "z"
   ]
  },
  {
   "cell_type": "code",
   "execution_count": 30,
   "id": "b5cd4b7d",
   "metadata": {},
   "outputs": [],
   "source": [
    "#11. What are the two methods for removing items from a list?"
   ]
  },
  {
   "cell_type": "markdown",
   "id": "ae4a6633",
   "metadata": {},
   "source": [
    "In Python, there are many methods available on the list data type that help us to  remove an element from a given list. \n",
    "These methods are  : remove(), pop() and clear(), del keyword is also use to remove items from a list."
   ]
  },
  {
   "cell_type": "code",
   "execution_count": 35,
   "id": "84e3948f",
   "metadata": {},
   "outputs": [
    {
     "data": {
      "text/plain": [
       "[112, 34, 'Ram', 'Shyam', 141, 'Riya', 112, 'Riya']"
      ]
     },
     "execution_count": 35,
     "metadata": {},
     "output_type": "execute_result"
    }
   ],
   "source": [
    "nlist = [112, 34, 'Ram', 'Shyam', 141, 'Riya', 112, 'Riya'] \n",
    "nlist\n"
   ]
  },
  {
   "cell_type": "code",
   "execution_count": 36,
   "id": "181e85d5",
   "metadata": {},
   "outputs": [
    {
     "data": {
      "text/plain": [
       "[34, 'Ram', 'Shyam', 141, 'Riya', 112, 'Riya']"
      ]
     },
     "execution_count": 36,
     "metadata": {},
     "output_type": "execute_result"
    }
   ],
   "source": [
    "# using remove() method:\n",
    "nlist.remove(112) # it will remove the element 112 at the start.\n",
    "nlist"
   ]
  },
  {
   "cell_type": "code",
   "execution_count": 41,
   "id": "ed180196",
   "metadata": {},
   "outputs": [
    {
     "data": {
      "text/plain": [
       "[112, 34, 'Ram', 'Shyam', 'Riya', 112, 'Riya']"
      ]
     },
     "execution_count": 41,
     "metadata": {},
     "output_type": "execute_result"
    }
   ],
   "source": [
    "#pop() method\n",
    "nlist = [112, 34, 'Ram', 'Shyam', 141, 'Riya', 112, 'Riya']\n",
    "nlist.pop(-4) # it will pop  the item 114 whose index is -4 from the list .\n",
    "nlist\n"
   ]
  },
  {
   "cell_type": "code",
   "execution_count": 45,
   "id": "a1c99499",
   "metadata": {},
   "outputs": [
    {
     "data": {
      "text/plain": [
       "[]"
      ]
     },
     "execution_count": 45,
     "metadata": {},
     "output_type": "execute_result"
    }
   ],
   "source": [
    "# clear () method\n",
    "nlist = [112, 34, 'Ram', 'Shyam', 141, 'Riya', 112, 'Riya']\n",
    "nlist.clear() # it will delet all the items from the list .\n",
    "nlist\n"
   ]
  },
  {
   "cell_type": "code",
   "execution_count": null,
   "id": "f21a8940",
   "metadata": {},
   "outputs": [],
   "source": [
    "# clear () method\n",
    "nlist = [112, 34, 'Ram', 'Shyam', 141, 'Riya', 112, 'Riya']\n",
    "nlist.clear() # it will delet all the items from the list .\n",
    "nlist"
   ]
  },
  {
   "cell_type": "code",
   "execution_count": 50,
   "id": "6ca052bb",
   "metadata": {},
   "outputs": [
    {
     "data": {
      "text/plain": [
       "[112, 34, 'Ram', 'Shyam', 'Riya', 112, 'Riya']"
      ]
     },
     "execution_count": 50,
     "metadata": {},
     "output_type": "execute_result"
    }
   ],
   "source": [
    "# del keyword\n",
    "nlist = [112, 34, 'Ram', 'Shyam', 141, 'Riya', 112, 'Riya']\n",
    "del nlist[-4] # it will delet respective index items from the list .\n",
    "nlist\n"
   ]
  },
  {
   "cell_type": "code",
   "execution_count": 51,
   "id": "161c2122",
   "metadata": {},
   "outputs": [
    {
     "data": {
      "text/plain": [
       "[112, 34, 'Ram', 'Shyam', 'Riya', 112, 'Riya']"
      ]
     },
     "execution_count": 51,
     "metadata": {},
     "output_type": "execute_result"
    }
   ],
   "source": [
    "nlist"
   ]
  },
  {
   "cell_type": "code",
   "execution_count": 48,
   "id": "bd91fc70",
   "metadata": {},
   "outputs": [
    {
     "data": {
      "text/plain": [
       "[112, 34, 'Riya']"
      ]
     },
     "execution_count": 48,
     "metadata": {},
     "output_type": "execute_result"
    }
   ],
   "source": [
    "del nlist[2:4]\n",
    "nlist"
   ]
  },
  {
   "cell_type": "code",
   "execution_count": null,
   "id": "1fb30936",
   "metadata": {},
   "outputs": [],
   "source": [
    "#Describe how list values and string values are identical."
   ]
  },
  {
   "cell_type": "markdown",
   "id": "b49eb726",
   "metadata": {},
   "source": [
    "Lists and strings can be passed to len(), have indexes and slices, be used in for loops, be concatenated or replicated, and be used with the in and not in operators.\n"
   ]
  },
  {
   "cell_type": "code",
   "execution_count": null,
   "id": "f7246f73",
   "metadata": {},
   "outputs": [],
   "source": [
    "#What's the difference between tuples and lists?"
   ]
  },
  {
   "cell_type": "markdown",
   "id": "f8ca3a5d",
   "metadata": {},
   "source": [
    "Lists are mutable; we can added, removed, or changed the values. \n",
    "Tuples are immutable; we cannot changed the values after initilization at all.\n",
    "Tuples are written using parentheses  ( ), while lists use the square brackets, [ ]."
   ]
  },
  {
   "cell_type": "code",
   "execution_count": null,
   "id": "282aff36",
   "metadata": {},
   "outputs": [],
   "source": [
    "#14. How do you type a tuple value that only contains the integer 42?\n",
    "#Answer: t=(42,) .we can use comma to seperate the values."
   ]
  },
  {
   "cell_type": "code",
   "execution_count": null,
   "id": "b148e386",
   "metadata": {},
   "outputs": [],
   "source": [
    "#15. How do you get a list value's tuple form? How do you get a tuple value's list form?"
   ]
  },
  {
   "cell_type": "markdown",
   "id": "3ff10b0a",
   "metadata": {},
   "source": [
    "The tuple() and list() functions, respectively\n",
    "example\n",
    "l= [23,34,2,\"ram\"]\n",
    "tuple(l).......answer : (23, 34, 2, 'ram')\n",
    "l= (23, 34, 2, 'ram')\n",
    "list[l].........answer: list[23, 34, 2, 'ram']\n"
   ]
  },
  {
   "cell_type": "code",
   "execution_count": 53,
   "id": "afe81e71",
   "metadata": {},
   "outputs": [
    {
     "data": {
      "text/plain": [
       "(23, 34, 2, 'ram')"
      ]
     },
     "execution_count": 53,
     "metadata": {},
     "output_type": "execute_result"
    }
   ],
   "source": [
    "l= [23,34,2,\"ram\"]\n",
    "tuple(l)"
   ]
  },
  {
   "cell_type": "code",
   "execution_count": 55,
   "id": "87801c68",
   "metadata": {},
   "outputs": [
    {
     "data": {
      "text/plain": [
       "list[23, 34, 2, 'ram']"
      ]
     },
     "execution_count": 55,
     "metadata": {},
     "output_type": "execute_result"
    }
   ],
   "source": [
    "l= (23, 34, 2, 'ram')\n",
    "list[l]"
   ]
  },
  {
   "cell_type": "code",
   "execution_count": null,
   "id": "d7b1aa9c",
   "metadata": {},
   "outputs": [],
   "source": [
    "#16. Variables that \"contain\" list values are not necessarily lists themselves. Instead, what do they contain?"
   ]
  },
  {
   "cell_type": "markdown",
   "id": "042ac7e5",
   "metadata": {},
   "source": [
    "Variables will contain references to list values rather than list values themselves"
   ]
  },
  {
   "cell_type": "code",
   "execution_count": null,
   "id": "87c59257",
   "metadata": {},
   "outputs": [],
   "source": [
    "#17. How do you distinguish between copy.copy() and copy.deepcopy()?"
   ]
  },
  {
   "cell_type": "markdown",
   "id": "a66fdeae",
   "metadata": {},
   "source": [
    "copy() create reference to original object. If we change copied object then we change the original object. \n",
    "deepcopy() creates new object and does real copying of original object to new one. \n",
    "Changing new deepcopied object doesn't affect original object."
   ]
  },
  {
   "cell_type": "code",
   "execution_count": 56,
   "id": "a01697dd",
   "metadata": {},
   "outputs": [
    {
     "data": {
      "text/plain": [
       "2639080054656"
      ]
     },
     "execution_count": 56,
     "metadata": {},
     "output_type": "execute_result"
    }
   ],
   "source": [
    "#Example\n",
    "l5=[2,3,5,688,23]\n",
    "id(l5)"
   ]
  },
  {
   "cell_type": "code",
   "execution_count": 57,
   "id": "bbd78a5d",
   "metadata": {},
   "outputs": [
    {
     "data": {
      "text/plain": [
       "2639080054656"
      ]
     },
     "execution_count": 57,
     "metadata": {},
     "output_type": "execute_result"
    }
   ],
   "source": [
    "l6=l5\n",
    "id(l6)"
   ]
  },
  {
   "cell_type": "code",
   "execution_count": 61,
   "id": "1b37f49d",
   "metadata": {},
   "outputs": [
    {
     "data": {
      "text/plain": [
       "2639080053824"
      ]
     },
     "execution_count": 61,
     "metadata": {},
     "output_type": "execute_result"
    }
   ],
   "source": [
    "l7= l5[ : ]\n",
    "id(l7)"
   ]
  },
  {
   "cell_type": "code",
   "execution_count": null,
   "id": "aef2ff3a",
   "metadata": {},
   "outputs": [],
   "source": [
    "#END"
   ]
  }
 ],
 "metadata": {
  "kernelspec": {
   "display_name": "Python 3 (ipykernel)",
   "language": "python",
   "name": "python3"
  },
  "language_info": {
   "codemirror_mode": {
    "name": "ipython",
    "version": 3
   },
   "file_extension": ".py",
   "mimetype": "text/x-python",
   "name": "python",
   "nbconvert_exporter": "python",
   "pygments_lexer": "ipython3",
   "version": "3.9.7"
  }
 },
 "nbformat": 4,
 "nbformat_minor": 5
}
