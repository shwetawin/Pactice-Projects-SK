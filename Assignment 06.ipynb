{
 "cells": [
  {
   "cell_type": "markdown",
   "id": "98cb34d7",
   "metadata": {},
   "source": [
    "1. What are escape characters, and how do you use them?\n",
    "2. What do the escape characters n and t stand for?\n",
    "3. What is the way to include backslash characters in a string?\n",
    "4. The string \"Howl's Moving Castle\" is a correct value. Why isn't the single quote character in the word Howl's not escaped a problem?\n",
    "5. How do you write a string of newlines if you don't want to use the n character?\n",
    "6. What are the values of the given expressions?\n",
    "'Hello, world!'[1]\n",
    "'Hello, world!'[0:5]\n",
    "'Hello, world!'[:5]\n",
    "'Hello, world!'[3:]\n",
    "\n",
    "7. What are the values of the following expressions?\n",
    "'Hello'.upper()\n",
    "'Hello'.upper().isupper()\n",
    "'Hello'.upper().lower()\n",
    "8. What are the values of the following expressions?\n",
    "'Remember, remember, the fifth of July.'.split()\n",
    "'-'.join('There can only one.'.split())\n",
    "9. What are the methods for right-justifying, left-justifying, and centering a string?\n",
    "10. What is the best way to remove whitespace characters from the start or end?\n",
    "\n"
   ]
  },
  {
   "cell_type": "code",
   "execution_count": null,
   "id": "15af775f",
   "metadata": {},
   "outputs": [],
   "source": [
    "#1. What are escape characters, and how do you use them?"
   ]
  },
  {
   "cell_type": "markdown",
   "id": "278f11a3",
   "metadata": {},
   "source": [
    "The backslash \"\\\" is a special character, also called the \"escape\" character.\n",
    "It is used in representing certain whitespace characters: \"\\t\" is a tab, \"\\n\" is a newline, and \"\\r\" is a carriage return"
   ]
  },
  {
   "cell_type": "code",
   "execution_count": null,
   "id": "79e99061",
   "metadata": {},
   "outputs": [],
   "source": [
    "#2. What do the escape characters n and t stand for?"
   ]
  },
  {
   "cell_type": "markdown",
   "id": "8c83f6c1",
   "metadata": {},
   "source": [
    "\"\\t\" is a tab, \"\\n\" is a newline"
   ]
  },
  {
   "cell_type": "code",
   "execution_count": null,
   "id": "98ea8152",
   "metadata": {},
   "outputs": [],
   "source": [
    "#3. What is the way to include backslash characters in a string?"
   ]
  },
  {
   "cell_type": "markdown",
   "id": "b2e36a6e",
   "metadata": {},
   "source": [
    "The \\\\ escape character will represent a backslash character.\n",
    "Eg. : print(\" \\\\ shweta )\n",
    "output : \\ shweta \n"
   ]
  },
  {
   "cell_type": "code",
   "execution_count": null,
   "id": "8c802577",
   "metadata": {},
   "outputs": [],
   "source": [
    "#4. The string \"Howl's Moving Castle\" is a correct value. Why isn't the single quote character in the word Howl's not escaped a problem?"
   ]
  },
  {
   "cell_type": "markdown",
   "id": "11cb3d1a",
   "metadata": {},
   "source": [
    "If we use double for a string then the single quote inside the string is accepted.\n",
    "if we use single code for the string then compiler get confused if there is single code inside the string. the \" word Howl's \" has a double code so it does not show ant error.but 'word Howl's' shows error."
   ]
  },
  {
   "cell_type": "code",
   "execution_count": null,
   "id": "c834ac76",
   "metadata": {},
   "outputs": [],
   "source": [
    "#5. How do you write a string of newlines if you don't want to use the n character?"
   ]
  },
  {
   "cell_type": "markdown",
   "id": "bd235b3e",
   "metadata": {},
   "source": [
    "Multiple line  strings allow us to use newlines in strings without the \\n escape character.\n",
    "or\n",
    "use print statement for different lines."
   ]
  },
  {
   "cell_type": "code",
   "execution_count": null,
   "id": "389130d0",
   "metadata": {},
   "outputs": [],
   "source": [
    "#6. What are the values of the given expressions?\n"
   ]
  },
  {
   "cell_type": "markdown",
   "id": "8618c7d3",
   "metadata": {},
   "source": [
    "'Hello, world!'[1]---------e\n",
    "'Hello, world!'[0:5]-----Hellow\n",
    "'Hello, world!'[:5]........Hellow\n",
    "'Hello, world!'[3:].......lo, world!\n"
   ]
  },
  {
   "cell_type": "code",
   "execution_count": null,
   "id": "7ac44ef9",
   "metadata": {},
   "outputs": [],
   "source": [
    "#7. What are the values of the following expressions?\n",
    "'Hello'.upper()                #'HELLO'\n",
    "'Hello'.upper().isupper()      #True\n",
    "'Hello'.upper().lower()        #'hello'\n"
   ]
  },
  {
   "cell_type": "code",
   "execution_count": 6,
   "id": "922f63e4",
   "metadata": {},
   "outputs": [
    {
     "data": {
      "text/plain": [
       "'HELLO'"
      ]
     },
     "execution_count": 6,
     "metadata": {},
     "output_type": "execute_result"
    }
   ],
   "source": [
    "'Hello'.upper()"
   ]
  },
  {
   "cell_type": "code",
   "execution_count": 7,
   "id": "b028a77a",
   "metadata": {},
   "outputs": [
    {
     "data": {
      "text/plain": [
       "True"
      ]
     },
     "execution_count": 7,
     "metadata": {},
     "output_type": "execute_result"
    }
   ],
   "source": [
    "'Hello'.upper().isupper()"
   ]
  },
  {
   "cell_type": "code",
   "execution_count": 8,
   "id": "fbac4c94",
   "metadata": {},
   "outputs": [
    {
     "data": {
      "text/plain": [
       "'hello'"
      ]
     },
     "execution_count": 8,
     "metadata": {},
     "output_type": "execute_result"
    }
   ],
   "source": [
    "'Hello'.upper().lower()"
   ]
  },
  {
   "cell_type": "code",
   "execution_count": null,
   "id": "c9a5a638",
   "metadata": {},
   "outputs": [],
   "source": [
    "#8. What are the values of the following expressions?\n"
   ]
  },
  {
   "cell_type": "markdown",
   "id": "508f76e2",
   "metadata": {},
   "source": [
    "'Remember, remember, the fifth of July.'.split()     \n",
    "output : ['Remember,', 'remember,', 'the', 'fifth', 'of', 'July.']\n",
    "\n",
    "\n",
    "'-'.join('There can only one.'.split())\n",
    "output : 'There-can-only-one.'"
   ]
  },
  {
   "cell_type": "code",
   "execution_count": 9,
   "id": "2ab237fb",
   "metadata": {},
   "outputs": [
    {
     "data": {
      "text/plain": [
       "['Remember,', 'remember,', 'the', 'fifth', 'of', 'July.']"
      ]
     },
     "execution_count": 9,
     "metadata": {},
     "output_type": "execute_result"
    }
   ],
   "source": [
    "'Remember, remember, the fifth of July.'.split()"
   ]
  },
  {
   "cell_type": "code",
   "execution_count": 10,
   "id": "a8a8f815",
   "metadata": {},
   "outputs": [
    {
     "data": {
      "text/plain": [
       "'There-can-only-one.'"
      ]
     },
     "execution_count": 10,
     "metadata": {},
     "output_type": "execute_result"
    }
   ],
   "source": [
    "'-'.join('There can only one.'.split())"
   ]
  },
  {
   "cell_type": "code",
   "execution_count": null,
   "id": "cc1ae581",
   "metadata": {},
   "outputs": [],
   "source": [
    "#9. What are the methods for right-justifying, left-justifying, and centering a string?"
   ]
  },
  {
   "cell_type": "markdown",
   "id": "dc4e4d2a",
   "metadata": {},
   "source": [
    "The methodes are:\n",
    "ljust(), rjust(), center()   respectively"
   ]
  },
  {
   "cell_type": "code",
   "execution_count": null,
   "id": "cf223d43",
   "metadata": {},
   "outputs": [],
   "source": [
    "#10. What is the best way to remove whitespace characters from the start or end?"
   ]
  },
  {
   "cell_type": "markdown",
   "id": "278d7a15",
   "metadata": {},
   "source": [
    "The lstrip() remove whitespace from the left and rstrip() methods remove whitespace  fron the right ends of a string."
   ]
  },
  {
   "cell_type": "code",
   "execution_count": null,
   "id": "d6df4b6a",
   "metadata": {},
   "outputs": [],
   "source": [
    "#END"
   ]
  }
 ],
 "metadata": {
  "kernelspec": {
   "display_name": "Python 3 (ipykernel)",
   "language": "python",
   "name": "python3"
  },
  "language_info": {
   "codemirror_mode": {
    "name": "ipython",
    "version": 3
   },
   "file_extension": ".py",
   "mimetype": "text/x-python",
   "name": "python",
   "nbconvert_exporter": "python",
   "pygments_lexer": "ipython3",
   "version": "3.9.7"
  }
 },
 "nbformat": 4,
 "nbformat_minor": 5
}
