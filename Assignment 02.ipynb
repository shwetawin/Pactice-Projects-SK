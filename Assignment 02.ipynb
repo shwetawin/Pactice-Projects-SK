{
 "cells": [
  {
   "cell_type": "markdown",
   "id": "f2fada76",
   "metadata": {},
   "source": [
    "1.What are the two values of the Boolean data type? How do you write them?\n",
    "2. What are the three different types of Boolean operators?\n",
    "3. Make a list of each Boolean operator's truth tables (i.e. every possible combination of Boolean values for the operator and what it evaluate ).\n",
    "4. What are the values of the following expressions?\n",
    "(5 > 4) and (3 == 5)\n",
    "not (5 > 4)\n",
    "(5 > 4) or (3 == 5)\n",
    "not ((5 > 4) or (3 == 5))\n",
    "(True and True) and (True == False)\n",
    "(not False) or (not True)\n",
    "5. What are the six comparison operators?\n",
    "6. How do you tell the difference between the equal to and assignment operators?Describe a condition and when you would use one.\n",
    "7. Identify the three blocks in this code:\n",
    "spam = 0\n",
    "if spam == 10:\n",
    "print('eggs')\n",
    "if spam > 5:\n",
    "print('bacon')\n",
    "else:\n",
    "print('ham')\n",
    "print('spam')\n",
    "print('spam')\n",
    "8. Write code that prints Hello if 1 is stored in spam, prints Howdy if 2 is stored in spam, and prints Greetings! if anything else is stored in spam.\n",
    "\n",
    "\n",
    "9.If your programme is stuck in an endless loop, what keys you’ll press?\n",
    "10. How can you tell the difference between break and continue?\n",
    "11. In a for loop, what is the difference between range(10), range(0, 10), and range(0, 10, 1)?\n",
    "12. Write a short program that prints the numbers 1 to 10 using a for loop. Then write an equivalent program that prints the numbers 1 to 10 using a while loop.\n",
    "13. If you had a function named bacon() inside a module named spam, how would you call it after importing spam?\n",
    "\n"
   ]
  },
  {
   "cell_type": "code",
   "execution_count": null,
   "id": "d62608c8",
   "metadata": {},
   "outputs": [],
   "source": [
    "#1.What are the two values of the Boolean data type? How do you write them?"
   ]
  },
  {
   "cell_type": "markdown",
   "id": "2f452fff",
   "metadata": {},
   "source": [
    "A variable of the primitive data type boolean can have two values: true and false . \n",
    "or off. Boolean expressions use relational and logical operators. \n",
    "The result of a Boolean expression is either true or false.In digital electronices true is equivalent to \"1\" and false is equivalent to \"0\".\n"
   ]
  },
  {
   "cell_type": "code",
   "execution_count": 1,
   "id": "227e8c1b",
   "metadata": {},
   "outputs": [
    {
     "data": {
      "text/plain": [
       "True"
      ]
     },
     "execution_count": 1,
     "metadata": {},
     "output_type": "execute_result"
    }
   ],
   "source": [
    "2<=5"
   ]
  },
  {
   "cell_type": "code",
   "execution_count": 2,
   "id": "05014ed6",
   "metadata": {},
   "outputs": [
    {
     "data": {
      "text/plain": [
       "False"
      ]
     },
     "execution_count": 2,
     "metadata": {},
     "output_type": "execute_result"
    }
   ],
   "source": [
    "'python'!='python'"
   ]
  },
  {
   "cell_type": "code",
   "execution_count": null,
   "id": "128a7dd7",
   "metadata": {},
   "outputs": [],
   "source": [
    "#2. What are the three different types of Boolean operators?"
   ]
  },
  {
   "cell_type": "markdown",
   "id": "6049a875",
   "metadata": {},
   "source": [
    "There are three basic Boolean operations and these are :  \n",
    "1. AND\n",
    "2. OR and\n",
    "3. NOT\n",
    "\n",
    "# AND operator : If we use AND  operator between two conditions then there are two possibilities of output\n",
    "either true : If both conditions are true only\n",
    "or false : If any one condition must be false.\n",
    "    Eg.: 4 == 4 and 4!=5 ........answer is True\n",
    "        4 == 4 and 4!=4 ........False\n",
    "        \n",
    "AND Truth Table\n",
    "x\t    and\ty\t  Returns\n",
    "True\tand\tTrue\tTrue\n",
    "True\tand\tFalse\tFalse\n",
    "False\tand\tTrue\tFalse\n",
    "False\tand\tFalse\tFalse\n",
    "\n",
    "# OR Operator : If we use OR  operator between two conditions then there are two possibilities of output\n",
    "either True : If both conditions are true and if any one condition is true \n",
    "or false : If both conditions must be false.\n",
    "    Eg :4 == 4 or 4!=5 .........True\n",
    "        4 != 4 or 4!=5 ..........True\n",
    "        4 = 4 or 4 ==5 .........True\n",
    "        4 != 4 or 5!=5 ........False\n",
    "        \n",
    "    OR Truth Table\n",
    "x\t    or\ty\t  Returns\n",
    "True\tor\tTrue\tTrue\n",
    "True\tor\tFalse\tTrue\n",
    "False\tor\tTrue\tTrue\n",
    "False\tor\tFalse\tFalse\n",
    "\n",
    "## NOT Operator :The not operator takes a value, looks at its Boolean value and converts this value to its Boolean counterpart. \n",
    "    E.g. not True gives False, and not False gives True.\n",
    "    not 1.........False\n",
    "    not 1==2.......True( 1== 2 is False and Inverse of False is true)\n",
    "\n",
    "NOT Truth Table\n",
    "not\t x\t   Returns\n",
    "not\tTrue\tFalse\n",
    "not\tFalse\tTrue"
   ]
  },
  {
   "cell_type": "code",
   "execution_count": 3,
   "id": "333762d7",
   "metadata": {},
   "outputs": [
    {
     "data": {
      "text/plain": [
       "True"
      ]
     },
     "execution_count": 3,
     "metadata": {},
     "output_type": "execute_result"
    }
   ],
   "source": [
    "# Examples of AND\n",
    "4 == 4 and 4!=5 "
   ]
  },
  {
   "cell_type": "code",
   "execution_count": 4,
   "id": "36efb940",
   "metadata": {},
   "outputs": [
    {
     "data": {
      "text/plain": [
       "False"
      ]
     },
     "execution_count": 4,
     "metadata": {},
     "output_type": "execute_result"
    }
   ],
   "source": [
    "4 == 4 and 4!=4 "
   ]
  },
  {
   "cell_type": "code",
   "execution_count": 5,
   "id": "01ffeaf5",
   "metadata": {},
   "outputs": [
    {
     "data": {
      "text/plain": [
       "True"
      ]
     },
     "execution_count": 5,
     "metadata": {},
     "output_type": "execute_result"
    }
   ],
   "source": [
    "4 == 4 or 4!=5 "
   ]
  },
  {
   "cell_type": "code",
   "execution_count": null,
   "id": "8299f800",
   "metadata": {},
   "outputs": [],
   "source": [
    "## Examples of OR"
   ]
  },
  {
   "cell_type": "code",
   "execution_count": 7,
   "id": "caac44ef",
   "metadata": {},
   "outputs": [
    {
     "data": {
      "text/plain": [
       "True"
      ]
     },
     "execution_count": 7,
     "metadata": {},
     "output_type": "execute_result"
    }
   ],
   "source": [
    "4 != 4 or 4!=5 "
   ]
  },
  {
   "cell_type": "code",
   "execution_count": 8,
   "id": "ac8d783c",
   "metadata": {},
   "outputs": [
    {
     "data": {
      "text/plain": [
       "False"
      ]
     },
     "execution_count": 8,
     "metadata": {},
     "output_type": "execute_result"
    }
   ],
   "source": [
    "4 != 4 or 5!=5"
   ]
  },
  {
   "cell_type": "code",
   "execution_count": null,
   "id": "d86302bc",
   "metadata": {},
   "outputs": [],
   "source": [
    "# Examples of Not"
   ]
  },
  {
   "cell_type": "code",
   "execution_count": 9,
   "id": "eef9be75",
   "metadata": {},
   "outputs": [
    {
     "data": {
      "text/plain": [
       "True"
      ]
     },
     "execution_count": 9,
     "metadata": {},
     "output_type": "execute_result"
    }
   ],
   "source": [
    " not 7==2"
   ]
  },
  {
   "cell_type": "code",
   "execution_count": 10,
   "id": "57d0fa3e",
   "metadata": {},
   "outputs": [
    {
     "data": {
      "text/plain": [
       "False"
      ]
     },
     "execution_count": 10,
     "metadata": {},
     "output_type": "execute_result"
    }
   ],
   "source": [
    "not 1"
   ]
  },
  {
   "cell_type": "code",
   "execution_count": null,
   "id": "f05a8dde",
   "metadata": {},
   "outputs": [],
   "source": [
    "#  3. Make a list of each Boolean operator's truth tables (i.e. every possible combination of Boolean values for the operator and what it evaluate ).\n",
    "AND Truth Table\n",
    "x\t    and\ty\t  Returns\n",
    "True\tand\tTrue\tTrue\n",
    "True\tand\tFalse\tFalse\n",
    "False\tand\tTrue\tFalse\n",
    "False\tand\tFalse\tFalse\n",
    "\n",
    "OR Truth Table\n",
    "x\t    or\ty\t  Returns\n",
    "True\tor\tTrue\tTrue\n",
    "True\tor\tFalse\tTrue\n",
    "False\tor\tTrue\tTrue\n",
    "False\tor\tFalse\tFalse\n",
    "\n",
    "NOT Truth Table\n",
    "not\t x\t   Returns\n",
    "not\tTrue\tFalse\n",
    "not\tFalse\tTrue\n",
    "\n"
   ]
  },
  {
   "cell_type": "code",
   "execution_count": 19,
   "id": "2a8ef040",
   "metadata": {},
   "outputs": [
    {
     "name": "stdout",
     "output_type": "stream",
     "text": [
      "AND operation output :  [True, False, True, False]\n",
      "OR operation output :  [True, True, False, False]\n",
      "NOT operation output :  False\n"
     ]
    }
   ],
   "source": [
    "A=[True,True,False,False]\n",
    "B=[True,False,True,False]\n",
    "\n",
    "C = A and B\n",
    "D = A or B\n",
    "E= not [True,True,False,False]\n",
    "\n",
    "print(\"AND operation output : \", C)\n",
    "print(\"OR operation output : \" , D)\n",
    "print(\"NOT operation output : \" ,E)"
   ]
  },
  {
   "cell_type": "code",
   "execution_count": 23,
   "id": "7f3103a8",
   "metadata": {},
   "outputs": [
    {
     "name": "stdout",
     "output_type": "stream",
     "text": [
      "Print the output of a :  False\n",
      "Print the output of b :  False\n",
      "Print the output of c :  True\n",
      "Print the output of d :  False\n",
      "Print the output of e :  False\n",
      "Print the output of f :  True\n"
     ]
    }
   ],
   "source": [
    "# 4. What are the values of the following expressions?\n",
    "a=(5 > 4) and (3 == 5)\n",
    "b= not (5 > 4)\n",
    "c=(5 > 4) or (3 == 5)\n",
    "d=not ((5 > 4) or (3 == 5))\n",
    "e=(True and True) and (True == False)\n",
    "f=(not False) or (not True)\n",
    "print(\"Print the output of a : \", a)\n",
    "print(\"Print the output of b : \", b)\n",
    "print(\"Print the output of c : \", c)\n",
    "print(\"Print the output of d : \", d)\n",
    "print(\"Print the output of e : \", e)\n",
    "print(\"Print the output of f : \", f)"
   ]
  },
  {
   "cell_type": "code",
   "execution_count": null,
   "id": "46f4e832",
   "metadata": {},
   "outputs": [],
   "source": [
    "#5. What are the six comparison operators?"
   ]
  },
  {
   "cell_type": "raw",
   "id": "6c089bac",
   "metadata": {},
   "source": [
    "The six different operators are as follows :\n",
    "\n",
    "Operator\tMeaning\n",
    "1.   ==\t    Equal to\n",
    "2.  !=\t    Not equal to\n",
    "3.   <\t    Less than\n",
    "4.   >\t    Greater than\n",
    "5.   <=\t    Less than or equal to\n",
    "6.   >=\t    Greater than or equal to"
   ]
  },
  {
   "cell_type": "code",
   "execution_count": 24,
   "id": "306d84af",
   "metadata": {},
   "outputs": [
    {
     "name": "stdout",
     "output_type": "stream",
     "text": [
      "Print the output of c :  False\n",
      "Print the output of d :  True\n",
      "Print the output of e :  False\n",
      "Print the output of f :  True\n",
      "Print the output of g :  False\n",
      "Print the output of h :  True\n"
     ]
    }
   ],
   "source": [
    "a= 23\n",
    "b= 12\n",
    "\n",
    "c= a==b\n",
    "d= a!= b\n",
    "e= a< b\n",
    "f= a >b\n",
    "g= a <= b\n",
    "h= a >= b\n",
    "print(\"Print the output of c : \", c)\n",
    "print(\"Print the output of d : \", d)\n",
    "print(\"Print the output of e : \", e)\n",
    "print(\"Print the output of f : \", f)\n",
    "print(\"Print the output of g : \", g)\n",
    "print(\"Print the output of h : \", h)\n"
   ]
  },
  {
   "cell_type": "code",
   "execution_count": null,
   "id": "5c86358c",
   "metadata": {},
   "outputs": [],
   "source": [
    "#6. How do you tell the difference between the equal to and assignment operators?\n",
    "#Describe a condition and when you would use one.\n",
    " \n",
    "The “=” is an assignment operator is used to assign the value on the right to the variable on the left. \n",
    "The '==' operator checks whether the two given operands are equal or not. If so, \n",
    "it returns true. Otherwise it returns false.\n",
    "Eg. A= 23 ( variable a has value 23)\n",
    "    A ==23 ( If value of A is equal to 23 then it returns true)"
   ]
  },
  {
   "cell_type": "code",
   "execution_count": 28,
   "id": "5ae27454",
   "metadata": {},
   "outputs": [
    {
     "name": "stdout",
     "output_type": "stream",
     "text": [
      " Value in variable A =  23\n",
      " Assignment operator output,z :  True\n",
      " Assignment operator output, r:  False\n"
     ]
    }
   ],
   "source": [
    "# examples\n",
    "A= 23\n",
    "z= A== 23\n",
    "r= A== 24\n",
    "print (\" Value in variable A = \",A)\n",
    "print (\" Assignment operator output,z : \",z)\n",
    "print (\" Assignment operator output, r: \",r)"
   ]
  },
  {
   "cell_type": "code",
   "execution_count": null,
   "id": "f128dcfe",
   "metadata": {},
   "outputs": [],
   "source": [
    "#7. Identify the three blocks in this code:"
   ]
  },
  {
   "cell_type": "code",
   "execution_count": 29,
   "id": "dc83d3d7",
   "metadata": {},
   "outputs": [
    {
     "name": "stdout",
     "output_type": "stream",
     "text": [
      "ham\n",
      "spam\n",
      "spam\n"
     ]
    }
   ],
   "source": [
    "spam = 0         # first block\n",
    "if spam == 10:\n",
    "    print('eggs')\n",
    "if spam > 5:      # Second block\n",
    "    print('bacon')\n",
    "else:             # Third block\n",
    "    print('ham')\n",
    "    print('spam')\n",
    "    print('spam')"
   ]
  },
  {
   "cell_type": "code",
   "execution_count": null,
   "id": "a9722df6",
   "metadata": {},
   "outputs": [],
   "source": [
    "#8. Write code that prints Hello if 1 is stored in spam, prints Howdy if 2 is stored in spam, \n",
    "#and prints Greetings! if anything else is stored in spam."
   ]
  },
  {
   "cell_type": "code",
   "execution_count": 39,
   "id": "856e6e86",
   "metadata": {},
   "outputs": [
    {
     "name": "stdout",
     "output_type": "stream",
     "text": [
      " enter the value in spam :2\n",
      "Howdy \n"
     ]
    }
   ],
   "source": [
    "spam = int (input (\" enter the value in spam :\"))\n",
    "\n",
    "if spam == 1:\n",
    "    print(\"Hello \")\n",
    "elif spam == 2:\n",
    "    print(\"Howdy \")\n",
    "else:\n",
    "    print(\"Greetings! \")"
   ]
  },
  {
   "cell_type": "code",
   "execution_count": 40,
   "id": "da5386fe",
   "metadata": {},
   "outputs": [
    {
     "name": "stdout",
     "output_type": "stream",
     "text": [
      " enter the value in spam :3\n",
      "Greetings! \n"
     ]
    }
   ],
   "source": [
    "spam = int (input (\" enter the value in spam :\"))\n",
    "\n",
    "if spam == 1:\n",
    "    print(\"Hello \")\n",
    "elif spam == 2:\n",
    "    print(\"Howdy \")\n",
    "else:\n",
    "    print(\"Greetings! \")"
   ]
  },
  {
   "cell_type": "code",
   "execution_count": null,
   "id": "76eebce7",
   "metadata": {},
   "outputs": [],
   "source": [
    "#9.If your programme is stuck in an endless loop, what keys you’ll press?\n"
   ]
  },
  {
   "cell_type": "markdown",
   "id": "d69ed352",
   "metadata": {},
   "source": [
    "An infinite loop occurs when a program keeps executing within one loop, never leaving it. \n",
    "we can press Ctrl + C to exit from the loop."
   ]
  },
  {
   "cell_type": "code",
   "execution_count": null,
   "id": "5b2cc6ea",
   "metadata": {},
   "outputs": [],
   "source": [
    "#10. How can you tell the difference between break and continue?"
   ]
  },
  {
   "cell_type": "markdown",
   "id": "b1e4569a",
   "metadata": {},
   "source": [
    "The main difference between both the statements is that when break keyword comes, \n",
    "it terminates the execution of the current loop and passes the control over the next loop \n",
    "or main body, \n",
    "whereas when continue keyword is encountered, \n",
    "it skips the current iteration and executes the very next iteration in the loop"
   ]
  },
  {
   "cell_type": "code",
   "execution_count": 50,
   "id": "2ddd5752",
   "metadata": {},
   "outputs": [],
   "source": [
    "for n in range (1,10):\n",
    "    if n == 4 :\n",
    "        break\n",
    "        print(n)"
   ]
  },
  {
   "cell_type": "code",
   "execution_count": 83,
   "id": "ceee80b4",
   "metadata": {},
   "outputs": [
    {
     "name": "stdout",
     "output_type": "stream",
     "text": [
      "1\n",
      "2\n",
      "3\n",
      "4\n"
     ]
    }
   ],
   "source": [
    "#  for break \n",
    "for i in range (1,10):\n",
    "\n",
    "    if i==5:\n",
    "        break\n",
    "    print (i)\n",
    "    "
   ]
  },
  {
   "cell_type": "code",
   "execution_count": 78,
   "id": "8be97f60",
   "metadata": {},
   "outputs": [
    {
     "name": "stdout",
     "output_type": "stream",
     "text": [
      "1\n",
      "2\n",
      "3\n",
      "5\n",
      "6\n",
      "7\n",
      "8\n",
      "9\n"
     ]
    }
   ],
   "source": [
    "#  for continue \n",
    "for i in range (1,10):\n",
    "    if i== 4 :\n",
    "        continue\n",
    "    print ( i )"
   ]
  },
  {
   "cell_type": "markdown",
   "id": "51cc6cea",
   "metadata": {},
   "source": [
    "#11. In a for loop, what is the difference between range(10), range(0, 10), and range(0, 10, 1)?\n",
    "Ans: All  the three functuions generate value from 0 to 9.\n",
    "range(10) by default starts from 0 and ends on  (n-1) i.e 9\n",
    "range (0,10 ) here start is 0 and ends on 9 .\n",
    "range(0, 10, 1 ), (range(start,stop,step) here start from 0 ends on 9 and step size is 1"
   ]
  },
  {
   "cell_type": "code",
   "execution_count": 87,
   "id": "585bd1b3",
   "metadata": {},
   "outputs": [],
   "source": [
    "#12. Write a short program that prints the numbers 1 to 10 using a for loop. \n",
    "#Then write an equivalent program that prints the numbers 1 to 10 using a while loop."
   ]
  },
  {
   "cell_type": "code",
   "execution_count": 91,
   "id": "ed741a3b",
   "metadata": {},
   "outputs": [
    {
     "name": "stdout",
     "output_type": "stream",
     "text": [
      "1\n",
      "2\n",
      "3\n",
      "4\n",
      "5\n",
      "6\n",
      "7\n",
      "8\n",
      "9\n",
      "10\n"
     ]
    }
   ],
   "source": [
    "#12. Write a short program that prints the numbers 1 to 10 using a for loop. \n",
    "for x in range (1,11):\n",
    "        print(x)\n"
   ]
  },
  {
   "cell_type": "code",
   "execution_count": 92,
   "id": "f62ae39e",
   "metadata": {},
   "outputs": [],
   "source": [
    "#Then write an equivalent program that prints the numbers 1 to 10 using a while loop."
   ]
  },
  {
   "cell_type": "code",
   "execution_count": 96,
   "id": "827221d4",
   "metadata": {},
   "outputs": [
    {
     "name": "stdout",
     "output_type": "stream",
     "text": [
      "1\n",
      "2\n",
      "3\n",
      "4\n",
      "5\n",
      "6\n",
      "7\n",
      "8\n",
      "9\n",
      "10\n"
     ]
    }
   ],
   "source": [
    "a=1\n",
    "while a<=10 :\n",
    "    print(a)\n",
    "    a+=1"
   ]
  },
  {
   "cell_type": "markdown",
   "id": "99d64e9c",
   "metadata": {},
   "source": [
    "#13. If you had a function named bacon() inside a module named spam, how would you call it after importing spam?\n",
    "Ans : This function can be called with spam. bacon()."
   ]
  }
 ],
 "metadata": {
  "kernelspec": {
   "display_name": "Python 3 (ipykernel)",
   "language": "python",
   "name": "python3"
  },
  "language_info": {
   "codemirror_mode": {
    "name": "ipython",
    "version": 3
   },
   "file_extension": ".py",
   "mimetype": "text/x-python",
   "name": "python",
   "nbconvert_exporter": "python",
   "pygments_lexer": "ipython3",
   "version": "3.9.7"
  }
 },
 "nbformat": 4,
 "nbformat_minor": 5
}
