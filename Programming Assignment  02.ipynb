{
 "cells": [
  {
   "cell_type": "markdown",
   "id": "d88ac83a",
   "metadata": {},
   "source": [
    "1.\tWrite a Python program to convert kilometers to miles?\n",
    "2.\tWrite a Python program to convert Celsius to Fahrenheit?\n",
    "3.\tWrite a Python program to display calendar?\n",
    "4.\tWrite a Python program to solve quadratic equation?\n",
    "5.\tWrite a Python program to swap two variables without temp variable?\n"
   ]
  },
  {
   "cell_type": "code",
   "execution_count": 27,
   "id": "8d7d1b27",
   "metadata": {},
   "outputs": [
    {
     "name": "stdout",
     "output_type": "stream",
     "text": [
      " Enter the value in KM : 100\n",
      " the value after conversion in Miles :  62.137\n"
     ]
    }
   ],
   "source": [
    "#1.\tWrite a Python program to convert kilometers to miles?\n",
    "# 1 kilometre equals 0.62137 miles and 1 Mile = kilometre * 0.62137.\n",
    "K = float ( input (\" Enter the value in KM : \"))\n",
    "M = K*0.62137\n",
    "print (\" the value after conversion in Miles  = \" , M )\n"
   ]
  },
  {
   "cell_type": "code",
   "execution_count": 29,
   "id": "4b3df823",
   "metadata": {},
   "outputs": [
    {
     "name": "stdout",
     "output_type": "stream",
     "text": [
      " Enter the value in Celsius : 12\n",
      " The value after conversion in Fahrenheit  =  33.8\n"
     ]
    }
   ],
   "source": [
    "# 2. Write a Python program to convert Celsius to Fahrenheit?\n",
    "\n",
    "# The C to F conversion formula is given as, F = C×(9/5)+32 \n",
    "C = float ( input (\" Enter the value in Celsius : \"))\n",
    "F = ((9/5)*c + 32)\n",
    "print (\" The value after conversion in Fahrenheit  = \" , F )\n"
   ]
  },
  {
   "cell_type": "code",
   "execution_count": null,
   "id": "722b588d",
   "metadata": {},
   "outputs": [],
   "source": []
  },
  {
   "cell_type": "code",
   "execution_count": 31,
   "id": "c3381876",
   "metadata": {},
   "outputs": [
    {
     "name": "stdout",
     "output_type": "stream",
     "text": [
      "     June 2022\n",
      "Mo Tu We Th Fr Sa Su\n",
      "       1  2  3  4  5\n",
      " 6  7  8  9 10 11 12\n",
      "13 14 15 16 17 18 19\n",
      "20 21 22 23 24 25 26\n",
      "27 28 29 30\n",
      "\n"
     ]
    }
   ],
   "source": [
    "#3.\tWrite a Python program to display calendar?\n",
    "\n",
    "# import module\n",
    "import calendar\n",
    " \n",
    "yy = 2022\n",
    "mm = 6\n",
    " \n",
    "# display the calendar\n",
    "\n",
    "print(calendar.month(yy, mm))"
   ]
  },
  {
   "cell_type": "code",
   "execution_count": 11,
   "id": "7c8228af",
   "metadata": {},
   "outputs": [
    {
     "name": "stdout",
     "output_type": "stream",
     "text": [
      " Enter the value of a: 5\n",
      " Enter the value of b: 20\n",
      " Enter the value of c: 10\n",
      " value of factor :f : 14.142135623730951\n",
      " root one :x1 : -0.5857864376269049\n",
      " root two :x2 : -3.414213562373095\n"
     ]
    }
   ],
   "source": [
    "#4.Write a Python program to solve quadratic equation?\n",
    "#quadratic equation ax2 + bx + c = 0\n",
    "# roots are , x = (-b ± √ (b² - 4ac) )/2a\n",
    "import math\n",
    "a= float (input (\" Enter the value of a: \"))\n",
    "b= float (input (\" Enter the value of b: \"))\n",
    "c= float (input (\" Enter the value of c: \"))\n",
    "\n",
    "# calculate the factor √ (b² - 4ac)\n",
    "f= math.sqrt ((b**2)-(4*a*c))\n",
    "\n",
    "# calculate the roots\n",
    "x1= (((-b) + f)/(2*a))\n",
    "x2= (((-b) - f)/(2*a))\n",
    "print (\" value of factor :f :\" , f)\n",
    "print (\" root one :x1 :\" , x1)\n",
    "print (\" root two :x2 :\" , x2)"
   ]
  },
  {
   "cell_type": "code",
   "execution_count": 12,
   "id": "69689288",
   "metadata": {},
   "outputs": [
    {
     "name": "stdout",
     "output_type": "stream",
     "text": [
      " Enter the value of a: 1\n",
      " Enter the value of b: 5\n",
      " Enter the value of c: 6\n",
      " The equation has two real and distinct roots \n",
      " value of factor :f : 1.0\n",
      " root one :x1 : -2.0\n",
      " root two :x2 : -3.0\n"
     ]
    }
   ],
   "source": [
    "#Write a Python program to solve quadratic equation?\n",
    "#quadratic equation ax2 + bx + c = 0\n",
    "# roots are , x = (-b ± √ (b² - 4ac) )/2a\n",
    "import math\n",
    "a= float (input (\" Enter the value of a: \"))\n",
    "b= float (input (\" Enter the value of b: \"))\n",
    "c= float (input (\" Enter the value of c: \"))\n",
    "\n",
    "# calculate the factor √ (b² - 4ac)\n",
    "f= math.sqrt ((b**2)-(4*a*c))\n",
    "print (\" value of factor :f :\" , f)\n",
    "\n",
    "if f > 0 :\n",
    "    print (\" The equation has two real and distinct roots \")\n",
    "elif  f <  0 :\n",
    "    print (\" the equation has two complex roots \")\n",
    "\n",
    "# calculate the roots\n",
    "x1= (((-b) + f)/(2*a))\n",
    "x2= (((-b) - f)/(2*a))\n",
    "\n",
    "print (\" root one :x1 :\" , x1)\n",
    "print (\" root two :x2 :\" , x2)"
   ]
  },
  {
   "cell_type": "code",
   "execution_count": 19,
   "id": "360d21c3",
   "metadata": {},
   "outputs": [
    {
     "name": "stdout",
     "output_type": "stream",
     "text": [
      " Enter the value of a: 1\n",
      " Enter the value of b: 4\n",
      " Enter the value of c: 5\n",
      " value of discriminant factor :f : 2j\n",
      " root one :x1 : (-2+1j)\n",
      " root two :x2 : (-2-1j)\n"
     ]
    }
   ],
   "source": [
    "#Write a Python program to solve quadratic equation?\n",
    "#quadratic equation ax2 + bx + c = 0\n",
    "# roots are , x = (-b ± √ (b² - 4ac) )/2a\n",
    "# Example x2 + 4x + 5 = 0\n",
    "\n",
    "\n",
    "import math\n",
    "a= float (input (\" Enter the value of a: \"))\n",
    "b= float (input (\" Enter the value of b: \"))\n",
    "c= float (input (\" Enter the value of c: \"))\n",
    "# import complex math module\n",
    "import cmath\n",
    "\n",
    "# calculate the discriminant factor √ (b² - 4ac)\n",
    "f= cmath.sqrt ((b**2)-(4*a*c))\n",
    "print (\" value of discriminant factor :f :\" , f)\n",
    "\n",
    "\n",
    "\n",
    "# calculate the roots\n",
    "x1= (((-b) + f)/(2*a))\n",
    "x2= (((-b) - f)/(2*a))\n",
    "\n",
    "print (\" root one :x1 :\" , x1)\n",
    "print (\" root two :x2 :\" , x2)"
   ]
  },
  {
   "cell_type": "code",
   "execution_count": 23,
   "id": "0d23abcf",
   "metadata": {},
   "outputs": [
    {
     "name": "stdout",
     "output_type": "stream",
     "text": [
      " Enter the value of a: 1\n",
      " Enter the value of b: 4\n",
      " Enter the value of c: 5\n",
      " value of discriminant factor :f : -4.0\n",
      " the equation has two complex roots \n",
      " root one :x1 : (-2+1j)\n",
      " root two :x2 : (-2-1j)\n"
     ]
    }
   ],
   "source": [
    "#Write a Python program to solve quadratic equation?\n",
    "#quadratic equation ax2 + bx + c = 0\n",
    "# roots are , x = (-b ± √ (b² - 4ac) )/2a\n",
    "# Example x2 + 4x + 5 = 0\n",
    "\n",
    "\n",
    "import math\n",
    "a= float (input (\" Enter the value of a: \"))\n",
    "b= float (input (\" Enter the value of b: \"))\n",
    "c= float (input (\" Enter the value of c: \"))\n",
    "# import complex math module\n",
    "import cmath\n",
    "\n",
    "# calculate the discriminant factor √ (b² - 4ac)\n",
    "f=  (b**2)-(4*a*c)\n",
    "print (\" value of discriminant factor :f :\" , f)\n",
    "if f > 0 :\n",
    "    print (\" The equation has two real and distinct roots \")\n",
    "elif  f <  0 :\n",
    "    print (\" the equation has two complex roots \")\n",
    "elif f == 0 :\n",
    "    print (\"There is one real root \")\n",
    "    \n",
    "# calculate the roots\n",
    "x1= (((-b) + cmath.sqrt (f))/(2*a))\n",
    "x2= (((-b) - cmath.sqrt(f)) /(2*a))\n",
    "\n",
    "print (\" root one :x1 :\" , x1)\n",
    "print (\" root two :x2 :\" , x2)\n",
    "    "
   ]
  },
  {
   "cell_type": "code",
   "execution_count": 26,
   "id": "bc8081c6",
   "metadata": {},
   "outputs": [
    {
     "name": "stdout",
     "output_type": "stream",
     "text": [
      " Enter the value of a: 1\n",
      " Enter the value of b: -2\n",
      " Enter the value of c: 1\n",
      " value of discriminant factor :f : 0.0\n",
      "There is equal and  real root \n",
      " root one :x1 : (1+0j)\n",
      " root two :x2 : (1+0j)\n"
     ]
    }
   ],
   "source": [
    "#x2 - 2x+ 1 = 0\n",
    "\n",
    "import math\n",
    "a= float (input (\" Enter the value of a: \"))\n",
    "b= float (input (\" Enter the value of b: \"))\n",
    "c= float (input (\" Enter the value of c: \"))\n",
    "# import complex math module\n",
    "import cmath\n",
    "\n",
    "# calculate the discriminant factor √ (b² - 4ac)\n",
    "f=  (b**2)-(4*a*c)\n",
    "print (\" value of discriminant factor :f :\" , f)\n",
    "if f > 0 :\n",
    "    print (\" The equation has two real and distinct roots \")\n",
    "elif  f <  0 :\n",
    "    print (\" the equation has two complex roots \")\n",
    "elif f == 0 :\n",
    "    print (\"There is equal and  real root \")\n",
    "    \n",
    "# calculate the roots\n",
    "x1= (((-b) + cmath.sqrt (f))/(2*a))\n",
    "x2= (((-b) - cmath.sqrt(f)) /(2*a))\n",
    "\n",
    "print (\" root one :x1 :\" , x1)\n",
    "print (\" root two :x2 :\" , x2)"
   ]
  },
  {
   "cell_type": "code",
   "execution_count": 3,
   "id": "b4d9ce44",
   "metadata": {},
   "outputs": [
    {
     "name": "stdout",
     "output_type": "stream",
     "text": [
      "Value in A  :  99\n",
      "Value in B :  12\n",
      "Value in A after swap :  12\n",
      "Value in B after swap :  99\n"
     ]
    }
   ],
   "source": [
    "#5.\tWrite a Python program to swap two variables without temp variable?\n",
    "A=99\n",
    "B=12\n",
    "print( \"Value in A  : \" , A)\n",
    "print( \"Value in B : \" , B)\n",
    "A,B = B, A\n",
    "print( \"Value in A after swap : \" , A)\n",
    "print( \"Value in B after swap : \" , B)\n"
   ]
  },
  {
   "cell_type": "code",
   "execution_count": null,
   "id": "e9f5f637",
   "metadata": {},
   "outputs": [],
   "source": []
  },
  {
   "cell_type": "code",
   "execution_count": null,
   "id": "b51ecd64",
   "metadata": {},
   "outputs": [],
   "source": []
  }
 ],
 "metadata": {
  "kernelspec": {
   "display_name": "Python 3 (ipykernel)",
   "language": "python",
   "name": "python3"
  },
  "language_info": {
   "codemirror_mode": {
    "name": "ipython",
    "version": 3
   },
   "file_extension": ".py",
   "mimetype": "text/x-python",
   "name": "python",
   "nbconvert_exporter": "python",
   "pygments_lexer": "ipython3",
   "version": "3.9.7"
  }
 },
 "nbformat": 4,
 "nbformat_minor": 5
}
