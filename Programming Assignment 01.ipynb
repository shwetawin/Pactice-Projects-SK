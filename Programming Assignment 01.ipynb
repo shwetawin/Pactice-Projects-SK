{
 "cells": [
  {
   "cell_type": "markdown",
   "id": "2b7bd4d7",
   "metadata": {},
   "source": [
    "1.\tWrite a Python program to print \"Hello Python\"?\n",
    "2.\tWrite a Python program to do arithmetical operations addition and division.?\n",
    "3.\tWrite a Python program to find the area of a triangle?\n",
    "4.\tWrite a Python program to swap two variables?\n",
    "5.\tWrite a Python program to generate a random number?\n"
   ]
  },
  {
   "cell_type": "code",
   "execution_count": 2,
   "id": "2bdde8f5",
   "metadata": {},
   "outputs": [
    {
     "name": "stdout",
     "output_type": "stream",
     "text": [
      "Hello Python\n"
     ]
    }
   ],
   "source": [
    "#1.Write a Python program to print \"Hello Python\"?\n",
    "print(\"Hello Python\")"
   ]
  },
  {
   "cell_type": "code",
   "execution_count": 6,
   "id": "a853ee06",
   "metadata": {},
   "outputs": [
    {
     "name": "stdout",
     "output_type": "stream",
     "text": [
      "First no : 12\n",
      "Second no : 7\n",
      " Addition : 19\n",
      " Division : 1.7142857142857142\n"
     ]
    }
   ],
   "source": [
    "#2.\tWrite a Python program to do arithmetical operations addition and division.?\n",
    "a = int(input(\"First no : \" ))\n",
    "b = int(input(\"Second no : \" ))\n",
    "print (\" Addition :\" ,a+b)\n",
    "print (\" Division :\", a/b )"
   ]
  },
  {
   "cell_type": "code",
   "execution_count": 26,
   "id": "df3f2b9a",
   "metadata": {},
   "outputs": [
    {
     "name": "stdout",
     "output_type": "stream",
     "text": [
      "Enter base : 12\n",
      "Enter height : 6\n",
      " Area of Triangle : 72.0\n"
     ]
    }
   ],
   "source": [
    "#3.\tWrite a Python program to find the area of a triangle?\n",
    "b = float (input(\"Enter base : \" ))\n",
    "h = float (input(\"Enter height : \" ))\n",
    "print (\" Area of Triangle :\", (a*b)/2  )\n"
   ]
  },
  {
   "cell_type": "code",
   "execution_count": 16,
   "id": "e6b1eb72",
   "metadata": {},
   "outputs": [
    {
     "name": "stdout",
     "output_type": "stream",
     "text": [
      "Value in A :  12\n",
      "Value in B :  23\n"
     ]
    }
   ],
   "source": [
    "# 4.\tWrite a Python program to swap two variables?\n",
    "A=23\n",
    "B=12\n",
    "C = A\n",
    "A = B\n",
    "B = C\n",
    "print( \"Value in A : \" , A)\n",
    "print( \"Value in B : \" , B)\n"
   ]
  },
  {
   "cell_type": "code",
   "execution_count": 17,
   "id": "98d584e2",
   "metadata": {},
   "outputs": [
    {
     "name": "stdout",
     "output_type": "stream",
     "text": [
      "Value in A :  12\n",
      "Value in B :  23\n"
     ]
    }
   ],
   "source": [
    "A=23\n",
    "B=12\n",
    "A,B = B, A\n",
    "print( \"Value in A : \" , A)\n",
    "print( \"Value in B : \" , B)"
   ]
  },
  {
   "cell_type": "code",
   "execution_count": 23,
   "id": "742e9a98",
   "metadata": {},
   "outputs": [
    {
     "name": "stdout",
     "output_type": "stream",
     "text": [
      "5\n"
     ]
    }
   ],
   "source": [
    "#5.\tWrite a Python program to generate a random number?\n",
    "import random\n",
    "r = random.randint(1,10)  \n",
    "print(r)  "
   ]
  }
 ],
 "metadata": {
  "kernelspec": {
   "display_name": "Python 3 (ipykernel)",
   "language": "python",
   "name": "python3"
  },
  "language_info": {
   "codemirror_mode": {
    "name": "ipython",
    "version": 3
   },
   "file_extension": ".py",
   "mimetype": "text/x-python",
   "name": "python",
   "nbconvert_exporter": "python",
   "pygments_lexer": "ipython3",
   "version": "3.9.7"
  }
 },
 "nbformat": 4,
 "nbformat_minor": 5
}
