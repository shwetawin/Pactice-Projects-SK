{
 "cells": [
  {
   "cell_type": "markdown",
   "id": "b8032eb7",
   "metadata": {},
   "source": [
    "1. In the below elements which of them are values or an expression? \n",
    "eg:- values can be integer or string and expressions will be mathematical operators.\n",
    "\n",
    "*  -----------------Symbol use for mathematical operator for multipication and other purpose to\n",
    "'hello'-------------String\n",
    "-87.8---------------float\n",
    "g-------------------Symbol\n",
    "- ------------------Symbol use for mathematical operator for substraction.\n",
    "/ ------------------Symbol use for mathematical operator for division.\n",
    "+ ------------------Symbol use for mathematical operator for addition.\n",
    "6 ------------------integer\n",
    "The operators are +, -, *, and /. The values are 'hello', -87.8, and 6.\n",
    "\n"
   ]
  },
  {
   "cell_type": "code",
   "execution_count": 1,
   "id": "544b6748",
   "metadata": {},
   "outputs": [
    {
     "ename": "SyntaxError",
     "evalue": "invalid syntax (Temp/ipykernel_16080/2575691334.py, line 1)",
     "output_type": "error",
     "traceback": [
      "\u001b[1;36m  File \u001b[1;32m\"C:\\Users\\SHWETA~1\\AppData\\Local\\Temp/ipykernel_16080/2575691334.py\"\u001b[1;36m, line \u001b[1;32m1\u001b[0m\n\u001b[1;33m    a= *\u001b[0m\n\u001b[1;37m         ^\u001b[0m\n\u001b[1;31mSyntaxError\u001b[0m\u001b[1;31m:\u001b[0m invalid syntax\n"
     ]
    }
   ],
   "source": [
    "a= * \n",
    "type(a) "
   ]
  },
  {
   "cell_type": "code",
   "execution_count": 2,
   "id": "64934989",
   "metadata": {},
   "outputs": [
    {
     "data": {
      "text/plain": [
       "str"
      ]
     },
     "execution_count": 2,
     "metadata": {},
     "output_type": "execute_result"
    }
   ],
   "source": [
    "a= 'hello'\n",
    " \n",
    "type(a)"
   ]
  },
  {
   "cell_type": "code",
   "execution_count": 11,
   "id": "87751225",
   "metadata": {},
   "outputs": [
    {
     "data": {
      "text/plain": [
       "float"
      ]
     },
     "execution_count": 11,
     "metadata": {},
     "output_type": "execute_result"
    }
   ],
   "source": [
    "a= -87.8\n",
    "\n",
    " \n",
    "type(a)"
   ]
  },
  {
   "cell_type": "code",
   "execution_count": 13,
   "id": "01a63c20",
   "metadata": {},
   "outputs": [
    {
     "ename": "NameError",
     "evalue": "name 'g' is not defined",
     "output_type": "error",
     "traceback": [
      "\u001b[1;31m---------------------------------------------------------------------------\u001b[0m",
      "\u001b[1;31mNameError\u001b[0m                                 Traceback (most recent call last)",
      "\u001b[1;32mC:\\Users\\SHWETA~1\\AppData\\Local\\Temp/ipykernel_16080/3284949004.py\u001b[0m in \u001b[0;36m<module>\u001b[1;34m\u001b[0m\n\u001b[1;32m----> 1\u001b[1;33m \u001b[0ma\u001b[0m\u001b[1;33m=\u001b[0m \u001b[0mg\u001b[0m\u001b[1;33m\u001b[0m\u001b[1;33m\u001b[0m\u001b[0m\n\u001b[0m\u001b[0;32m      2\u001b[0m \u001b[1;33m\u001b[0m\u001b[0m\n\u001b[0;32m      3\u001b[0m \u001b[1;33m\u001b[0m\u001b[0m\n\u001b[0;32m      4\u001b[0m \u001b[0mtype\u001b[0m\u001b[1;33m(\u001b[0m\u001b[0ma\u001b[0m\u001b[1;33m)\u001b[0m\u001b[1;33m\u001b[0m\u001b[1;33m\u001b[0m\u001b[0m\n",
      "\u001b[1;31mNameError\u001b[0m: name 'g' is not defined"
     ]
    }
   ],
   "source": [
    "a= g\n",
    "\n",
    " \n",
    "type(a)"
   ]
  },
  {
   "cell_type": "code",
   "execution_count": 14,
   "id": "51c33e41",
   "metadata": {},
   "outputs": [
    {
     "ename": "SyntaxError",
     "evalue": "invalid syntax (Temp/ipykernel_16080/3659356460.py, line 1)",
     "output_type": "error",
     "traceback": [
      "\u001b[1;36m  File \u001b[1;32m\"C:\\Users\\SHWETA~1\\AppData\\Local\\Temp/ipykernel_16080/3659356460.py\"\u001b[1;36m, line \u001b[1;32m1\u001b[0m\n\u001b[1;33m    a= /\u001b[0m\n\u001b[1;37m       ^\u001b[0m\n\u001b[1;31mSyntaxError\u001b[0m\u001b[1;31m:\u001b[0m invalid syntax\n"
     ]
    }
   ],
   "source": [
    "a= /\n",
    "\n",
    " \n",
    "type(a)"
   ]
  },
  {
   "cell_type": "code",
   "execution_count": null,
   "id": "9c450aa3",
   "metadata": {},
   "outputs": [],
   "source": [
    "#2. What is the difference between string and variable?"
   ]
  },
  {
   "cell_type": "markdown",
   "id": "de4bd267",
   "metadata": {},
   "source": [
    "Variable is a symbol which can be anything except reserve keywords, it may be alphaneumeric  with special charater'_' and '-'or without special charaters.\n",
    "A variable name can only contain alpha-numeric characters and underscores (A-z, 0-9, and _ ).It should not start with number.\n",
    "It is used to store the data use in the program.\n",
    "It is store of information.Generally it is used foe temporary storage.\n",
    "There are two type of variables globle and local.\n",
    "eg. X=2  shweta= \" GOOD\"  sk1 = -6.78 \n",
    "\n",
    "String is a data (type of information) that can be store in the variable.\n",
    "strings are the combination of words or sentances enclosed in \" \".\n",
    "eg. X= \"skwin is good \". ('X' is a variable used to store the string ).\n"
   ]
  },
  {
   "cell_type": "code",
   "execution_count": null,
   "id": "f15e0876",
   "metadata": {},
   "outputs": [],
   "source": [
    "#3. Describe three different data types."
   ]
  },
  {
   "cell_type": "markdown",
   "id": "a2217cfc",
   "metadata": {},
   "source": [
    "In Python there are five main Data Types :\n",
    "•\tNumeric\n",
    "•\tSequence Type\n",
    "•\tBoolean\n",
    "•\tSet\n",
    "•\tDictionary\n",
    "Everything is an object in python programming, data types are classes and variables are instance (object) of these classes.\n",
    "1.\tNumeric\n",
    "Numeric data type represent the data which has numeric value. \n",
    "Numeric value can be integer, floating or complex numbers.\n",
    "•\tIntegers -This value is represented by int class. It contains positive or negative whole numbers. In Python there is no limit to how long an integer value can be.\n",
    "•\tFloat -This value is represented by float class. It is a real number with floating point representation. It is specified by a decimal point\n",
    "•\tComplex Numbers - Complex number is represented by complex class.\n",
    "Format  :  (real part) + (imaginary part) j. \n",
    "Eg.  – 4+13j\n",
    "\n",
    "\n",
    "2.\tSequence Type\n",
    "Sequence is the ordered collection of similar or different data types. Sequences allows to store multiple values in an organized and efficient fashion. \n",
    "There are several sequence types in Python –\n",
    "•\tString -Strings are arrays of bytes representing Unicode characters. A string is a collection of one or more characters put in a single quote, double-quote or triple quote. In python there is no character data type, a character is a string of length one. It is represented by str class.\n",
    "Eg . X= “ I am Python ”\n",
    "•\tList - It is  like the arrays, declared in other languages which is a ordered collection of data. It is very flexible as the items in a list do not need to be of the same type. List write inside [ ].\n",
    "Eg . X= [ 12, 34, 2,5,  “ I am Python ” ]\n",
    "•\tTuple - It is also an ordered collection of Python objects. The only difference between tuple and list is that tuples are immutable i.e. tuples cannot be modified after it is created. It is represented by tuple class.\n",
    "It is write inside ( ).\n",
    "Eg . X= ( 12, 34, 2,5,  “ I am Python ” )\n",
    "\n",
    "3.\tBoolean\n",
    "\n",
    "This has the two built-in values, True or False. \n",
    "Boolean objects that are equal to True are truthy (true), and those equal to False are falsy (false). But non-Boolean objects can be evaluated in Boolean context as well and determined to be true or false. It is denoted by the class bool.\n",
    "\n"
   ]
  },
  {
   "cell_type": "code",
   "execution_count": null,
   "id": "74c7b117",
   "metadata": {},
   "outputs": [],
   "source": [
    "#4. What is an expression made up of? What do all expressions do?"
   ]
  },
  {
   "cell_type": "markdown",
   "id": "a336f1e3",
   "metadata": {},
   "source": [
    "expressions are the core components of statements; statements may be grouped into blocks.\n",
    "An expression is a construct made up of variables, operators, and method invocations, which are constructed according to the syntax of the language, that evaluates to a single value.\n",
    " Expressions are representations of value. They are different from statements in the fact that statements do something while expressions are representation of value.\n",
    "\n",
    "The data type of the value returned by an expression depends on the elements used in the expression\n",
    "\n",
    "Eg.  X=  (a+b) /c\n",
    "\n",
    "Y== a *c and b*d    etc.\n",
    "\n",
    "The expression defines the functions. So to generate different functions we use an expression.\n"
   ]
  },
  {
   "cell_type": "code",
   "execution_count": null,
   "id": "f7a90bb8",
   "metadata": {},
   "outputs": [],
   "source": [
    "#5. This assignment statements, like spam = 10. What is the difference between an expression and a statement?"
   ]
  },
  {
   "cell_type": "code",
   "execution_count": null,
   "id": "cc56dc3f",
   "metadata": {},
   "outputs": [],
   "source": [
    "spam=10 is a assignment statement.\n",
    "10 is assigned to spam variable .Whenever we use variable spam then it will consider value 10.\n",
    "\n",
    "An expression is a combination of values and functions that are combined and\n",
    "interpreted by the compiler to create a new value, as opposed to a “statement” which is just\n",
    "a standalone unit of execution and doesn't return anything."
   ]
  },
  {
   "cell_type": "code",
   "execution_count": 2,
   "id": "28884782",
   "metadata": {},
   "outputs": [
    {
     "data": {
      "text/plain": [
       "20"
      ]
     },
     "execution_count": 2,
     "metadata": {},
     "output_type": "execute_result"
    }
   ],
   "source": [
    "spam=10\n",
    "a= spam+ 10\n",
    "a"
   ]
  },
  {
   "cell_type": "code",
   "execution_count": 3,
   "id": "aebf3258",
   "metadata": {},
   "outputs": [
    {
     "data": {
      "text/plain": [
       "22"
      ]
     },
     "execution_count": 3,
     "metadata": {},
     "output_type": "execute_result"
    }
   ],
   "source": [
    "#6. After running the following code, what does the variable bacon contain?\n",
    "bacon = 22\n",
    "bacon + 1  # value of this expression is 23 but the becon value is 22\n",
    "bacon\n",
    "# becon value is 22\n"
   ]
  },
  {
   "cell_type": "code",
   "execution_count": null,
   "id": "2e897d57",
   "metadata": {},
   "outputs": [],
   "source": [
    "#7. What should the values of the following two terms be?\n",
    "'spam' + 'spamspam'\n",
    "'spam' * 3\n",
    "# Ans: Value of two term is same and this is  : \"spamspamspam\"\n"
   ]
  },
  {
   "cell_type": "code",
   "execution_count": 4,
   "id": "b57700d6",
   "metadata": {},
   "outputs": [
    {
     "data": {
      "text/plain": [
       "'spamspamspam'"
      ]
     },
     "execution_count": 4,
     "metadata": {},
     "output_type": "execute_result"
    }
   ],
   "source": [
    "'spam' + 'spamspam'"
   ]
  },
  {
   "cell_type": "code",
   "execution_count": 5,
   "id": "f0f2aacb",
   "metadata": {},
   "outputs": [
    {
     "data": {
      "text/plain": [
       "'spamspamspam'"
      ]
     },
     "execution_count": 5,
     "metadata": {},
     "output_type": "execute_result"
    }
   ],
   "source": [
    "'spam' * 3"
   ]
  },
  {
   "cell_type": "code",
   "execution_count": null,
   "id": "d301e661",
   "metadata": {},
   "outputs": [],
   "source": [
    "#8. Why is eggs a valid variable name while 100 is invalid?"
   ]
  },
  {
   "cell_type": "markdown",
   "id": "9aac3ac4",
   "metadata": {},
   "source": [
    "egg is valid variable as it stars from alphabets.A variable name can only contain alpha-numeric characters and underscores (A-z, 0-9, and _ )\n",
    "In Python variable name should not start with numbers so 100 is invalid varaiable name.\n",
    "Interpriter confused when variable name starts with number.\n",
    "Eg.\n",
    "13= \"123\"\n",
    "13\n",
    "SyntaxError: cannot assign to literal"
   ]
  },
  {
   "cell_type": "code",
   "execution_count": 6,
   "id": "4618c6d7",
   "metadata": {},
   "outputs": [
    {
     "data": {
      "text/plain": [
       "12"
      ]
     },
     "execution_count": 6,
     "metadata": {},
     "output_type": "execute_result"
    }
   ],
   "source": [
    "egg=12\n",
    "egg"
   ]
  },
  {
   "cell_type": "code",
   "execution_count": 7,
   "id": "2eb3baf9",
   "metadata": {},
   "outputs": [
    {
     "ename": "SyntaxError",
     "evalue": "cannot assign to literal (Temp/ipykernel_16080/3016449150.py, line 1)",
     "output_type": "error",
     "traceback": [
      "\u001b[1;36m  File \u001b[1;32m\"C:\\Users\\SHWETA~1\\AppData\\Local\\Temp/ipykernel_16080/3016449150.py\"\u001b[1;36m, line \u001b[1;32m1\u001b[0m\n\u001b[1;33m    13= \"123\"\u001b[0m\n\u001b[1;37m    ^\u001b[0m\n\u001b[1;31mSyntaxError\u001b[0m\u001b[1;31m:\u001b[0m cannot assign to literal\n"
     ]
    }
   ],
   "source": [
    "13= \"123\"\n",
    "13"
   ]
  }
 ],
 "metadata": {
  "kernelspec": {
   "display_name": "Python 3 (ipykernel)",
   "language": "python",
   "name": "python3"
  },
  "language_info": {
   "codemirror_mode": {
    "name": "ipython",
    "version": 3
   },
   "file_extension": ".py",
   "mimetype": "text/x-python",
   "name": "python",
   "nbconvert_exporter": "python",
   "pygments_lexer": "ipython3",
   "version": "3.9.7"
  }
 },
 "nbformat": 4,
 "nbformat_minor": 5
}
