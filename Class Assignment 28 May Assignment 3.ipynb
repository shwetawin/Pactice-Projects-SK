{
 "cells": [
  {
   "cell_type": "markdown",
   "id": "992addad",
   "metadata": {},
   "source": [
    "# 28 MAY ASSIGNMENT 3\n",
    "q1 :\n",
    "ineruon \n",
    "ineruon ineruon \n",
    "ineruon ineruon ineruon\n",
    "ineruon ineruon ineruon ineruon\n",
    "\n",
    "q2 - \n",
    "\n",
    "          ineruon\n",
    "    ineruon      ineruon\n",
    "ineruon   ineruon   ineruon\n",
    "  ineruon    ineruon\n",
    "      ineruon\n",
    "l = [[1,2,3,4] , (2,3,4,5,6) , (3,4,5,6,7) , set([23,4,5,45,4,4,5,45,45,4,5]) , {'k1' :\"sudh\" , \"k2\" : \"ineuron\",\"k3\":\n",
    "            \"kumar\" , 3:6 , 7:8} , [\"ineuron\" , \"data science \"]]\n",
    "\n",
    "q3 : Try to extract all the list entity \n",
    "q4 : Try to extract all the dict enteties\n",
    "q5 : Try to extract all the tuples entities\n",
    "q6 : Try to extract all the numerical data it may b a part of dict key and values \n",
    "q7 : Try to give summation of all the numeric data \n",
    "q8 : Try to filter out all the odd values out all numeric data which is a part of a list \n",
    "q9 : Try to extract \"ineruon\" out of this data\n",
    "q10 :Try to find out a number of occurances of all the data \n",
    "q11 : Try to find out number of keys in dict element\n",
    "q12 : Try to filter out all the string data \n",
    "q13 : Try to Find  out alphanum in data\n",
    "q14 : Try to find out multiplication of all numeric value in  the individual collection inside dataset \n",
    "q15 : Try to unwrape all the collection inside collection and create a flat list \n",
    "    \n",
    "    \n",
    "before 29th may 2022 3 PM IST you have to send an answer to me or to shivan \n",
    "sudhanshu@ineuron.ai\n",
    "shivan@ineuron.ai\n",
    "\n"
   ]
  },
  {
   "cell_type": "markdown",
   "id": "134814c4",
   "metadata": {},
   "source": [
    "# q1 :\n",
    "ineruon \n",
    "ineruon ineruon \n",
    "ineruon ineruon ineruon\n",
    "ineruon ineruon ineruon ineruon\n"
   ]
  },
  {
   "cell_type": "code",
   "execution_count": 24,
   "id": "3fecefa0",
   "metadata": {},
   "outputs": [
    {
     "name": "stdout",
     "output_type": "stream",
     "text": [
      "ineuron \n",
      "\n",
      "ineuron ineuron \n",
      "\n",
      "ineuron ineuron ineuron \n",
      "\n",
      "ineuron ineuron ineuron ineuron \n",
      "\n"
     ]
    }
   ],
   "source": [
    "for i in range (1,5):\n",
    "    \n",
    "    for j in range (1,i+1):\n",
    "        print(\"ineuron\", end = \" \")\n",
    "    print(\"\\n\")"
   ]
  },
  {
   "cell_type": "code",
   "execution_count": 31,
   "id": "d879e1b3",
   "metadata": {},
   "outputs": [
    {
     "name": "stdout",
     "output_type": "stream",
     "text": [
      "Enter the no of rows : 5\n",
      "ineuron \n",
      "\n",
      "ineuron ineuron \n",
      "\n",
      "ineuron ineuron ineuron \n",
      "\n",
      "ineuron ineuron ineuron ineuron \n",
      "\n"
     ]
    }
   ],
   "source": [
    "row= int (input( \"Enter the no of rows : \"))\n",
    "\n",
    "\n",
    "for i in range (1,row):\n",
    "    for j in range (1,i+1):\n",
    "        print(\"ineuron\", end = \" \")\n",
    "    print(\"\\n\")"
   ]
  },
  {
   "cell_type": "markdown",
   "id": "30bdc0a9",
   "metadata": {},
   "source": [
    "# q2 - \n",
    "\n",
    "          ineruon\n",
    "    ineruon      ineruon\n",
    "ineruon   ineruon   ineruon\n",
    "  ineruon    ineruon\n",
    "      ineruon"
   ]
  },
  {
   "cell_type": "code",
   "execution_count": 46,
   "id": "7cef31aa",
   "metadata": {},
   "outputs": [
    {
     "name": "stdout",
     "output_type": "stream",
     "text": [
      "Enter no of rows:3\n",
      "\n",
      "\n",
      "  * \n",
      " * * \n",
      "* * * \n",
      " * * \n",
      "  * \n"
     ]
    }
   ],
   "source": [
    "n=int(input(\"Enter no of rows:\" )) #n=3\n",
    "print(\"\\n\")\n",
    "for i in range (n):# i=0,1,2\n",
    "      print(\" \"*(n-i-1) + \"* \"*(i+1))\n",
    "for i in range (n-1):# n=2, i=0,1\n",
    "         print(\" \"*(i+1) + \"* \"*(n-i-1))\n",
    "    \n",
    "        \n",
    "    "
   ]
  },
  {
   "cell_type": "code",
   "execution_count": 51,
   "id": "0f6d3a7b",
   "metadata": {},
   "outputs": [
    {
     "name": "stdout",
     "output_type": "stream",
     "text": [
      "Enter no of rows:3\n",
      "\n",
      "\n",
      "       ineruon \n",
      "    ineruon  ineruon \n",
      " ineruon  ineruon  ineruon \n",
      "    ineruon  ineruon \n",
      "       ineruon \n"
     ]
    }
   ],
   "source": [
    "n=int(input(\"Enter no of rows:\" )) #n=3\n",
    "print(\"\\n\")\n",
    "for i in range (n):# i=0,1,2\n",
    "      print(\"   \"*(n-i-1) + \" ineruon \"*(i+1))\n",
    "for i in range (n-1):# n=2, i=0,1\n",
    "         print(\"   \"*(i+1) + \" ineruon \"*(n-i-1))\n",
    "    "
   ]
  },
  {
   "cell_type": "code",
   "execution_count": null,
   "id": "2f9d54ac",
   "metadata": {},
   "outputs": [],
   "source": [
    "# l = [[1,2,3,4] , (2,3,4,5,6) , (3,4,5,6,7) , set([23,4,5,45,4,4,5,45,45,4,5]) , {'k1' :\"sudh\" , \"k2\" : \"ineuron\",\"k3\":\n",
    "            \"kumar\" , 3:6 , 7:8} , [\"ineuron\" , \"data science \"]]\n",
    "#q3 : Try to extract all the list entity "
   ]
  },
  {
   "cell_type": "code",
   "execution_count": 53,
   "id": "1b5d9725",
   "metadata": {},
   "outputs": [
    {
     "data": {
      "text/plain": [
       "[[1, 2, 3, 4],\n",
       " (2, 3, 4, 5, 6),\n",
       " (3, 4, 5, 6, 7),\n",
       " {4, 5, 23, 45},\n",
       " {'k1': 'sudh', 'k2': 'ineuron', 'k3': 'kumar', 3: 6, 7: 8},\n",
       " ['ineuron', 'data science ']]"
      ]
     },
     "execution_count": 53,
     "metadata": {},
     "output_type": "execute_result"
    }
   ],
   "source": [
    "l = [[1,2,3,4] , (2,3,4,5,6) , (3,4,5,6,7) , set([23,4,5,45,4,4,5,45,45,4,5]) , {'k1' :\"sudh\" , \"k2\" : \"ineuron\",\"k3\":\n",
    "            \"kumar\" , 3:6 , 7:8} , [\"ineuron\" , \"data science \"]]\n",
    "l"
   ]
  },
  {
   "cell_type": "code",
   "execution_count": 60,
   "id": "3c8499b1",
   "metadata": {},
   "outputs": [
    {
     "name": "stdout",
     "output_type": "stream",
     "text": [
      "[1, 2, 3, 4]\n",
      "['ineuron', 'data science ']\n"
     ]
    }
   ],
   "source": [
    "for i in l:\n",
    "    if type (i)==list :\n",
    "        print(i)"
   ]
  },
  {
   "cell_type": "code",
   "execution_count": 67,
   "id": "0f3ddff8",
   "metadata": {},
   "outputs": [
    {
     "name": "stdout",
     "output_type": "stream",
     "text": [
      "{'k1': 'sudh', 'k2': 'ineuron', 'k3': 'kumar', 3: 6, 7: 8}\n"
     ]
    }
   ],
   "source": [
    "#q4 : Try to extract all the dict enteties\n",
    "for i in l:\n",
    "    if type (i)==dict :\n",
    "        print(i)\n"
   ]
  },
  {
   "cell_type": "code",
   "execution_count": 62,
   "id": "1bb1340e",
   "metadata": {},
   "outputs": [
    {
     "name": "stdout",
     "output_type": "stream",
     "text": [
      "(2, 3, 4, 5, 6)\n",
      "(3, 4, 5, 6, 7)\n"
     ]
    }
   ],
   "source": [
    "#q5 : Try to extract all the tuples entities\n",
    "for i in l:\n",
    "    if type (i)==tuple :\n",
    "        print(i)"
   ]
  },
  {
   "cell_type": "code",
   "execution_count": 71,
   "id": "2337b862",
   "metadata": {},
   "outputs": [],
   "source": [
    "#q6 : Try to extract all the numerical data it may b a part of dict key and values \n",
    "list1 = []\n",
    "for i in l:\n",
    "    if type(i) == list or type(i) == tuple or type(i) == set :\n",
    "        for j in i :\n",
    "            if type(j) == int :\n",
    "                list1.append(j) # for dic values r pending"
   ]
  },
  {
   "cell_type": "code",
   "execution_count": 72,
   "id": "70a272e8",
   "metadata": {},
   "outputs": [
    {
     "data": {
      "text/plain": [
       "[1, 2, 3, 4, 2, 3, 4, 5, 6, 3, 4, 5, 6, 7, 45, 4, 5, 23]"
      ]
     },
     "execution_count": 72,
     "metadata": {},
     "output_type": "execute_result"
    }
   ],
   "source": [
    "list1"
   ]
  },
  {
   "cell_type": "code",
   "execution_count": 73,
   "id": "292905ee",
   "metadata": {},
   "outputs": [],
   "source": [
    "list1 = []\n",
    "for i in l:\n",
    "    if type(i) == list or type(i) == tuple or type(i) == set :\n",
    "        for j in i :\n",
    "            if type(j) == int :\n",
    "                list1.append(j) # for dic values r pending\n",
    "    if type(i) == dict:\n",
    "        for k in i.items(): # gives tupple and then iterate this\n",
    "            for g in k:\n",
    "                if type(g)==int:\n",
    "                    list1.append(g)"
   ]
  },
  {
   "cell_type": "code",
   "execution_count": 74,
   "id": "83699ba7",
   "metadata": {},
   "outputs": [
    {
     "data": {
      "text/plain": [
       "[1, 2, 3, 4, 2, 3, 4, 5, 6, 3, 4, 5, 6, 7, 45, 4, 5, 23, 3, 6, 7, 8]"
      ]
     },
     "execution_count": 74,
     "metadata": {},
     "output_type": "execute_result"
    }
   ],
   "source": [
    "list1"
   ]
  },
  {
   "cell_type": "code",
   "execution_count": 76,
   "id": "b459ccb6",
   "metadata": {},
   "outputs": [
    {
     "data": {
      "text/plain": [
       "156"
      ]
     },
     "execution_count": 76,
     "metadata": {},
     "output_type": "execute_result"
    }
   ],
   "source": [
    "#q7 : Try to give summation of all the numeric data \n",
    "sum(list1)"
   ]
  },
  {
   "cell_type": "code",
   "execution_count": 80,
   "id": "54e36059",
   "metadata": {},
   "outputs": [
    {
     "name": "stdout",
     "output_type": "stream",
     "text": [
      "1\n",
      "3\n",
      "3\n",
      "5\n",
      "3\n",
      "5\n",
      "7\n",
      "45\n",
      "5\n",
      "23\n",
      "3\n",
      "7\n"
     ]
    }
   ],
   "source": [
    "## q8 : Try to filter out all the odd values out all numeric data which is a part of a list \n",
    "for i in list1:\n",
    "    if i%2==0:\n",
    "        #print (i)   for even data\n",
    "        pass\n",
    "    else:\n",
    "        print(i)"
   ]
  },
  {
   "cell_type": "code",
   "execution_count": 82,
   "id": "591a9e30",
   "metadata": {},
   "outputs": [
    {
     "data": {
      "text/plain": [
       "[[1, 2, 3, 4],\n",
       " (2, 3, 4, 5, 6),\n",
       " (3, 4, 5, 6, 7),\n",
       " {4, 5, 23, 45},\n",
       " {'k1': 'sudh', 'k2': 'ineuron', 'k3': 'kumar', 3: 6, 7: 8},\n",
       " ['ineuron', 'data science ']]"
      ]
     },
     "execution_count": 82,
     "metadata": {},
     "output_type": "execute_result"
    }
   ],
   "source": [
    "#q9 : Try to extract \"ineruon\" out of this data\n",
    "l"
   ]
  },
  {
   "cell_type": "code",
   "execution_count": null,
   "id": "cf2d675a",
   "metadata": {},
   "outputs": [],
   "source": [
    "l"
   ]
  },
  {
   "cell_type": "code",
   "execution_count": 84,
   "id": "c7f1dd6e",
   "metadata": {},
   "outputs": [],
   "source": [
    "list2 = []\n",
    "for i in l:\n",
    "    if type(i) == list or type(i) == tuple or type(i) == set :\n",
    "        for j in i:\n",
    "            if j==\"ineuron\":\n",
    "                list2.append(j)\n",
    "    if type(i)==dict:\n",
    "        for k in i.items(): # gives tuples\n",
    "            for r in k:\n",
    "                if r== \"ineuron\":\n",
    "                    list2.append(r)\n",
    "            \n",
    "    "
   ]
  },
  {
   "cell_type": "code",
   "execution_count": 85,
   "id": "5393cc04",
   "metadata": {},
   "outputs": [
    {
     "data": {
      "text/plain": [
       "['ineuron', 'ineuron']"
      ]
     },
     "execution_count": 85,
     "metadata": {},
     "output_type": "execute_result"
    }
   ],
   "source": [
    "list2"
   ]
  },
  {
   "cell_type": "code",
   "execution_count": 86,
   "id": "1f53e1c1",
   "metadata": {},
   "outputs": [],
   "source": [
    "#q10 :Try to find out a number of occurances of all the data \n",
    "list3 = []\n",
    "for i in l:\n",
    "    if type(i) == list or type(i) == tuple or type(i) == set :\n",
    "        for j in i :\n",
    "            if type(j) == int or type(j) == str:\n",
    "                list3.append(j)\n",
    "    if type(i) == dict :\n",
    "        for k in i.items() : \n",
    "            for g in k :\n",
    "                if type(g) == int  or type(g) == str:\n",
    "                    list3.append(g)\n"
   ]
  },
  {
   "cell_type": "code",
   "execution_count": 87,
   "id": "afb922b1",
   "metadata": {},
   "outputs": [
    {
     "data": {
      "text/plain": [
       "[1,\n",
       " 2,\n",
       " 3,\n",
       " 4,\n",
       " 2,\n",
       " 3,\n",
       " 4,\n",
       " 5,\n",
       " 6,\n",
       " 3,\n",
       " 4,\n",
       " 5,\n",
       " 6,\n",
       " 7,\n",
       " 45,\n",
       " 4,\n",
       " 5,\n",
       " 23,\n",
       " 'k1',\n",
       " 'sudh',\n",
       " 'k2',\n",
       " 'ineuron',\n",
       " 'k3',\n",
       " 'kumar',\n",
       " 3,\n",
       " 6,\n",
       " 7,\n",
       " 8,\n",
       " 'ineuron',\n",
       " 'data science ']"
      ]
     },
     "execution_count": 87,
     "metadata": {},
     "output_type": "execute_result"
    }
   ],
   "source": [
    "list3"
   ]
  },
  {
   "cell_type": "code",
   "execution_count": 88,
   "id": "6057b7c0",
   "metadata": {},
   "outputs": [
    {
     "data": {
      "text/plain": [
       "{1,\n",
       " 2,\n",
       " 23,\n",
       " 3,\n",
       " 4,\n",
       " 45,\n",
       " 5,\n",
       " 6,\n",
       " 7,\n",
       " 8,\n",
       " 'data science ',\n",
       " 'ineuron',\n",
       " 'k1',\n",
       " 'k2',\n",
       " 'k3',\n",
       " 'kumar',\n",
       " 'sudh'}"
      ]
     },
     "execution_count": 88,
     "metadata": {},
     "output_type": "execute_result"
    }
   ],
   "source": [
    "set(list3) # gives unique values"
   ]
  },
  {
   "cell_type": "code",
   "execution_count": 95,
   "id": "78d803f4",
   "metadata": {},
   "outputs": [
    {
     "name": "stdout",
     "output_type": "stream",
     "text": [
      "number of occurance of : 1   =  1 time\n",
      "number of occurance of : 2   =  2 time\n",
      "number of occurance of : 3   =  4 time\n",
      "number of occurance of : 4   =  4 time\n",
      "number of occurance of : 5   =  3 time\n",
      "number of occurance of : 6   =  3 time\n",
      "number of occurance of : 7   =  2 time\n",
      "number of occurance of : k2   =  1 time\n",
      "number of occurance of : k3   =  1 time\n",
      "number of occurance of : kumar   =  1 time\n",
      "number of occurance of : 8   =  1 time\n",
      "number of occurance of : 45   =  1 time\n",
      "number of occurance of : sudh   =  1 time\n",
      "number of occurance of : data science    =  1 time\n",
      "number of occurance of : 23   =  1 time\n",
      "number of occurance of : k1   =  1 time\n",
      "number of occurance of : ineuron   =  2 time\n"
     ]
    }
   ],
   "source": [
    "for i in set(list3):\n",
    "    print ('number of occurance of :',i ,\"  = \", list3.count(i),\"time\")"
   ]
  },
  {
   "cell_type": "code",
   "execution_count": 97,
   "id": "84f6bdcb",
   "metadata": {},
   "outputs": [
    {
     "data": {
      "text/plain": [
       "[[1, 2, 3, 4],\n",
       " (2, 3, 4, 5, 6),\n",
       " (3, 4, 5, 6, 7),\n",
       " {4, 5, 23, 45},\n",
       " {'k1': 'sudh', 'k2': 'ineuron', 'k3': 'kumar', 3: 6, 7: 8},\n",
       " ['ineuron', 'data science ']]"
      ]
     },
     "execution_count": 97,
     "metadata": {},
     "output_type": "execute_result"
    }
   ],
   "source": [
    "l"
   ]
  },
  {
   "cell_type": "code",
   "execution_count": 96,
   "id": "9918b1df",
   "metadata": {},
   "outputs": [
    {
     "name": "stdout",
     "output_type": "stream",
     "text": [
      "5\n"
     ]
    }
   ],
   "source": [
    "#q11 : Try to find out number of keys in dict element\n",
    "for i in l:\n",
    "    if type(i) == dict :\n",
    "        print(len(i))"
   ]
  },
  {
   "cell_type": "code",
   "execution_count": 100,
   "id": "eea3ad67",
   "metadata": {},
   "outputs": [
    {
     "data": {
      "text/plain": [
       "['k1', 'sudh', 'k2', 'ineuron', 'k3', 'kumar', 'ineuron', 'data science ']"
      ]
     },
     "execution_count": 100,
     "metadata": {},
     "output_type": "execute_result"
    }
   ],
   "source": [
    "# q12 : Try to filter out all the string data \n",
    "list4 = []\n",
    "for i in l:\n",
    "    if type(i) == list or type(i) == tuple or type(i) == set :\n",
    "        for j in i :\n",
    "            if type(j) == str:\n",
    "                list4.append(j)\n",
    "    if type(i) == dict :\n",
    "        for k in i.items() : \n",
    "            for g in k :\n",
    "                if type(g) == str:\n",
    "                    list4.append(g)\n",
    "list4"
   ]
  },
  {
   "cell_type": "code",
   "execution_count": 101,
   "id": "b597fb26",
   "metadata": {},
   "outputs": [
    {
     "name": "stdout",
     "output_type": "stream",
     "text": [
      "k1\n",
      "sudh\n",
      "k2\n",
      "ineuron\n",
      "k3\n",
      "kumar\n",
      "ineuron\n",
      "data science \n"
     ]
    }
   ],
   "source": [
    "# or\n",
    "for i in list3 :\n",
    "    if type(i) == str:\n",
    "        print(i)"
   ]
  },
  {
   "cell_type": "code",
   "execution_count": 102,
   "id": "63a9bacd",
   "metadata": {},
   "outputs": [
    {
     "name": "stdout",
     "output_type": "stream",
     "text": [
      "k1\n",
      "sudh\n",
      "k2\n",
      "ineuron\n",
      "k3\n",
      "kumar\n",
      "ineuron\n",
      "data science \n"
     ]
    }
   ],
   "source": [
    "#q13 : Try to Find  out alphanum in data\n",
    "for i in list3 :\n",
    "    if type(i) == str:\n",
    "        if i.isalnum:\n",
    "            print(i)"
   ]
  },
  {
   "cell_type": "code",
   "execution_count": null,
   "id": "de6d9344",
   "metadata": {},
   "outputs": [],
   "source": [
    "for i in l1 :\n",
    "    if type(i) == str :\n",
    "        if i.isalnum() : \n",
    "            print(i)"
   ]
  },
  {
   "cell_type": "code",
   "execution_count": null,
   "id": "870c8826",
   "metadata": {},
   "outputs": [],
   "source": [
    "#q14 : Try to find out multiplication of all numeric value in  the individual collection inside dataset "
   ]
  },
  {
   "cell_type": "code",
   "execution_count": 114,
   "id": "5ad7d22a",
   "metadata": {},
   "outputs": [
    {
     "name": "stdout",
     "output_type": "stream",
     "text": [
      "<class 'list'> [1, 2, 3, 4] multipilcation : 24\n",
      "<class 'tuple'> [2, 3, 4, 5, 6] multipilcation : 720\n",
      "<class 'tuple'> [3, 4, 5, 6, 7] multipilcation : 2520\n",
      "<class 'set'> [45, 4, 5, 23] multipilcation : 20700\n",
      "<class 'dict'> ['k1', 'k2', 'k3', 3, 7] multipilcation : 1008\n",
      "<class 'list'> ['ineuron', 'data science '] multipilcation : 1\n"
     ]
    }
   ],
   "source": [
    "for i in l :\n",
    "    a=1\n",
    "    if type(i) == list  or type(i)  == tuple or type(i) == set :\n",
    "        for j in i :\n",
    "            if type(j) == int :\n",
    "                a = a * j\n",
    "        print(type(i),list(i),\"multipilcation :\",a)\n",
    "    if type(i) == dict:\n",
    "        for k in i.items():\n",
    "            for r in k:\n",
    "                if type(r)==int:\n",
    "                    a = a * r\n",
    "        print(type(i),list(i),\"multipilcation :\",a)\n",
    "                    "
   ]
  },
  {
   "cell_type": "code",
   "execution_count": 113,
   "id": "3e3d2cad",
   "metadata": {},
   "outputs": [
    {
     "name": "stdout",
     "output_type": "stream",
     "text": [
      "<class 'list'> 24\n",
      "<class 'tuple'> 720\n",
      "<class 'tuple'> 2520\n",
      "<class 'set'> 20700\n",
      "<class 'dict'> 1008\n",
      "<class 'list'> 1\n"
     ]
    }
   ],
   "source": [
    " "
   ]
  },
  {
   "cell_type": "code",
   "execution_count": 115,
   "id": "88462b8a",
   "metadata": {},
   "outputs": [
    {
     "data": {
      "text/plain": [
       "[1,\n",
       " 2,\n",
       " 3,\n",
       " 4,\n",
       " 2,\n",
       " 3,\n",
       " 4,\n",
       " 5,\n",
       " 6,\n",
       " 3,\n",
       " 4,\n",
       " 5,\n",
       " 6,\n",
       " 7,\n",
       " 45,\n",
       " 4,\n",
       " 5,\n",
       " 23,\n",
       " 'k1',\n",
       " 'sudh',\n",
       " 'k2',\n",
       " 'ineuron',\n",
       " 'k3',\n",
       " 'kumar',\n",
       " 3,\n",
       " 6,\n",
       " 7,\n",
       " 8,\n",
       " 'ineuron',\n",
       " 'data science ']"
      ]
     },
     "execution_count": 115,
     "metadata": {},
     "output_type": "execute_result"
    }
   ],
   "source": [
    "# q15 : Try to unwrape all the collection inside collection and create a flat list \n",
    "list3"
   ]
  },
  {
   "cell_type": "code",
   "execution_count": null,
   "id": "4086b936",
   "metadata": {},
   "outputs": [],
   "source": [
    "#End"
   ]
  }
 ],
 "metadata": {
  "kernelspec": {
   "display_name": "Python 3 (ipykernel)",
   "language": "python",
   "name": "python3"
  },
  "language_info": {
   "codemirror_mode": {
    "name": "ipython",
    "version": 3
   },
   "file_extension": ".py",
   "mimetype": "text/x-python",
   "name": "python",
   "nbconvert_exporter": "python",
   "pygments_lexer": "ipython3",
   "version": "3.9.7"
  }
 },
 "nbformat": 4,
 "nbformat_minor": 5
}
