{
 "cells": [
  {
   "cell_type": "markdown",
   "id": "04ac2ce2",
   "metadata": {},
   "source": [
    "s = \"this is My First Python programming class and i am learNING python string and its function\"\n",
    "1 . Try to extract data from index one to index 300 with a jump of 3 \n",
    "2. Try to reverse a string without using reverse function \n",
    "3. Try to split a string after conversion of entire string in uppercase \n",
    "4. try to convert the whole string into lower case \n",
    "5 . Try to capitalize the whole string \n",
    "6 . Write a diference between isalnum() and isalpha()\n",
    "7. Try to give an example of expand tab\n",
    "8 . Give an example of strip , lstrip and rstrip \n",
    "9.  Replace a string charecter by another charector by taking your own example \n",
    "\"sudhanshu\"\n",
    "10 . Try  to give a defination of string center function with and exmple \n",
    "11 . Write your own definition of compiler and interpretor without copy paste form internet in your own language\n",
    "12 . Python is a interpreted of compiled language give a clear ans with your understanding \n",
    "13 . Try to write a usecase of python with your understanding .\n",
    "\n",
    "\n",
    "you have to send a jupyter notebook to shivan@ineuron.ai before next saturday class 21st of may . "
   ]
  },
  {
   "cell_type": "markdown",
   "id": "1a70bfbf",
   "metadata": {},
   "source": [
    "# 1"
   ]
  },
  {
   "cell_type": "code",
   "execution_count": 1,
   "id": "18b5b611",
   "metadata": {},
   "outputs": [],
   "source": [
    "s = \"this is My First Python programming class and i am learNING python string and its function\""
   ]
  },
  {
   "cell_type": "code",
   "execution_count": 2,
   "id": "e2fefd20",
   "metadata": {},
   "outputs": [
    {
     "data": {
      "text/plain": [
       "'this is My First Python programming class and i am learNING python string and its function'"
      ]
     },
     "execution_count": 2,
     "metadata": {},
     "output_type": "execute_result"
    }
   ],
   "source": [
    "s"
   ]
  },
  {
   "cell_type": "code",
   "execution_count": 3,
   "id": "eee89d90",
   "metadata": {},
   "outputs": [
    {
     "data": {
      "text/plain": [
       "'h   r tnrrmglsnimeNGyosi dtfco'"
      ]
     },
     "execution_count": 3,
     "metadata": {},
     "output_type": "execute_result"
    }
   ],
   "source": [
    "s[1:300:3]"
   ]
  },
  {
   "cell_type": "markdown",
   "id": "d4a90d15",
   "metadata": {},
   "source": [
    "# 2. Try to reverse a string without using reverse function "
   ]
  },
  {
   "cell_type": "code",
   "execution_count": 4,
   "id": "b4cac877",
   "metadata": {},
   "outputs": [
    {
     "data": {
      "text/plain": [
       "90"
      ]
     },
     "execution_count": 4,
     "metadata": {},
     "output_type": "execute_result"
    }
   ],
   "source": [
    "len(s)"
   ]
  },
  {
   "cell_type": "code",
   "execution_count": 7,
   "id": "3b874928",
   "metadata": {},
   "outputs": [
    {
     "data": {
      "text/plain": [
       "'noitcnuf sti dna gnirts nohtyp GNINrael ma i dna ssalc gnimmargorp nohtyP tsriF yM si siht'"
      ]
     },
     "execution_count": 7,
     "metadata": {},
     "output_type": "execute_result"
    }
   ],
   "source": [
    "s[-1:-91:-1]"
   ]
  },
  {
   "cell_type": "markdown",
   "id": "eb83b10e",
   "metadata": {},
   "source": [
    "# 3. Try to split a string after conversion of entire string in uppercase "
   ]
  },
  {
   "cell_type": "code",
   "execution_count": 12,
   "id": "473634b9",
   "metadata": {},
   "outputs": [],
   "source": [
    "y=s.upper()"
   ]
  },
  {
   "cell_type": "code",
   "execution_count": 13,
   "id": "523d685b",
   "metadata": {},
   "outputs": [
    {
     "data": {
      "text/plain": [
       "'THIS IS MY FIRST PYTHON PROGRAMMING CLASS AND I AM LEARNING PYTHON STRING AND ITS FUNCTION'"
      ]
     },
     "execution_count": 13,
     "metadata": {},
     "output_type": "execute_result"
    }
   ],
   "source": [
    "y"
   ]
  },
  {
   "cell_type": "code",
   "execution_count": 14,
   "id": "0b028398",
   "metadata": {},
   "outputs": [
    {
     "data": {
      "text/plain": [
       "['THIS',\n",
       " 'IS',\n",
       " 'MY',\n",
       " 'FIRST',\n",
       " 'PYTHON',\n",
       " 'PROGRAMMING',\n",
       " 'CLASS',\n",
       " 'AND',\n",
       " 'I',\n",
       " 'AM',\n",
       " 'LEARNING',\n",
       " 'PYTHON',\n",
       " 'STRING',\n",
       " 'AND',\n",
       " 'ITS',\n",
       " 'FUNCTION']"
      ]
     },
     "execution_count": 14,
     "metadata": {},
     "output_type": "execute_result"
    }
   ],
   "source": [
    "y.split()"
   ]
  },
  {
   "cell_type": "markdown",
   "id": "59660390",
   "metadata": {},
   "source": [
    "# 4. try to convert the whole string into lower case "
   ]
  },
  {
   "cell_type": "code",
   "execution_count": 15,
   "id": "322d3bb2",
   "metadata": {},
   "outputs": [
    {
     "data": {
      "text/plain": [
       "'THIS IS MY FIRST PYTHON PROGRAMMING CLASS AND I AM LEARNING PYTHON STRING AND ITS FUNCTION'"
      ]
     },
     "execution_count": 15,
     "metadata": {},
     "output_type": "execute_result"
    }
   ],
   "source": [
    "y"
   ]
  },
  {
   "cell_type": "code",
   "execution_count": 16,
   "id": "2b84490c",
   "metadata": {},
   "outputs": [
    {
     "data": {
      "text/plain": [
       "'this is my first python programming class and i am learning python string and its function'"
      ]
     },
     "execution_count": 16,
     "metadata": {},
     "output_type": "execute_result"
    }
   ],
   "source": [
    "y.lower()"
   ]
  },
  {
   "cell_type": "markdown",
   "id": "0830d3e6",
   "metadata": {},
   "source": [
    "# 5 . Try to capitalize the whole string "
   ]
  },
  {
   "cell_type": "code",
   "execution_count": 17,
   "id": "fb534e28",
   "metadata": {},
   "outputs": [
    {
     "data": {
      "text/plain": [
       "'This is my first python programming class and i am learning python string and its function'"
      ]
     },
     "execution_count": 17,
     "metadata": {},
     "output_type": "execute_result"
    }
   ],
   "source": [
    "y.capitalize()"
   ]
  },
  {
   "cell_type": "markdown",
   "id": "d2e4c8a3",
   "metadata": {},
   "source": [
    "# 6 . Write a diference between isalnum() and isalpha()"
   ]
  },
  {
   "cell_type": "markdown",
   "id": "851e0779",
   "metadata": {},
   "source": [
    "isalpha : Return True if the string is an alphabetic string, False otherwise.Ex if y=\"123tul\" then output if False and if we check for isalnum() then it  return True as the string is an alpha-numeric string, False otherwise.\n",
    "\n"
   ]
  },
  {
   "cell_type": "code",
   "execution_count": 74,
   "id": "26e4515f",
   "metadata": {},
   "outputs": [],
   "source": [
    "y=\"123tul\""
   ]
  },
  {
   "cell_type": "code",
   "execution_count": 75,
   "id": "2370764a",
   "metadata": {},
   "outputs": [
    {
     "data": {
      "text/plain": [
       "True"
      ]
     },
     "execution_count": 75,
     "metadata": {},
     "output_type": "execute_result"
    }
   ],
   "source": [
    "y.isalnum()"
   ]
  },
  {
   "cell_type": "code",
   "execution_count": 76,
   "id": "e7a615a5",
   "metadata": {},
   "outputs": [
    {
     "data": {
      "text/plain": [
       "False"
      ]
     },
     "execution_count": 76,
     "metadata": {},
     "output_type": "execute_result"
    }
   ],
   "source": [
    "y.isalpha()"
   ]
  },
  {
   "cell_type": "markdown",
   "id": "b0cf63fb",
   "metadata": {},
   "source": [
    "# 7. Try to give an example of expand tab"
   ]
  },
  {
   "cell_type": "code",
   "execution_count": 27,
   "id": "d3148282",
   "metadata": {},
   "outputs": [],
   "source": [
    "y= \"Shweta\\tis\\tbright\\tstudent\\t.\""
   ]
  },
  {
   "cell_type": "code",
   "execution_count": 28,
   "id": "e62e18ea",
   "metadata": {},
   "outputs": [
    {
     "data": {
      "text/plain": [
       "'Shweta  is      bright  student .'"
      ]
     },
     "execution_count": 28,
     "metadata": {},
     "output_type": "execute_result"
    }
   ],
   "source": [
    "y.expandtabs()"
   ]
  },
  {
   "cell_type": "markdown",
   "id": "85b4ea9b",
   "metadata": {},
   "source": [
    "# 8 . Give an example of strip , lstrip and rstrip "
   ]
  },
  {
   "cell_type": "code",
   "execution_count": 29,
   "id": "9fb13409",
   "metadata": {},
   "outputs": [],
   "source": [
    "s=\"        Shweta  is      bright  student       \""
   ]
  },
  {
   "cell_type": "code",
   "execution_count": 30,
   "id": "9b3582eb",
   "metadata": {},
   "outputs": [
    {
     "data": {
      "text/plain": [
       "'        Shweta  is      bright  student       '"
      ]
     },
     "execution_count": 30,
     "metadata": {},
     "output_type": "execute_result"
    }
   ],
   "source": [
    "s"
   ]
  },
  {
   "cell_type": "code",
   "execution_count": 31,
   "id": "1626f192",
   "metadata": {},
   "outputs": [
    {
     "data": {
      "text/plain": [
       "'Shweta  is      bright  student'"
      ]
     },
     "execution_count": 31,
     "metadata": {},
     "output_type": "execute_result"
    }
   ],
   "source": [
    "s.strip()"
   ]
  },
  {
   "cell_type": "code",
   "execution_count": 32,
   "id": "7fad4efe",
   "metadata": {},
   "outputs": [
    {
     "data": {
      "text/plain": [
       "'Shweta  is      bright  student       '"
      ]
     },
     "execution_count": 32,
     "metadata": {},
     "output_type": "execute_result"
    }
   ],
   "source": [
    "s.lstrip()"
   ]
  },
  {
   "cell_type": "code",
   "execution_count": 33,
   "id": "4094afdc",
   "metadata": {},
   "outputs": [
    {
     "data": {
      "text/plain": [
       "'        Shweta  is      bright  student'"
      ]
     },
     "execution_count": 33,
     "metadata": {},
     "output_type": "execute_result"
    }
   ],
   "source": [
    "s.rstrip()"
   ]
  },
  {
   "cell_type": "markdown",
   "id": "699ea4cb",
   "metadata": {},
   "source": [
    "# 9.  Replace a string charecter by another charector by taking your own example \n",
    "\"sudhanshu\""
   ]
  },
  {
   "cell_type": "code",
   "execution_count": 80,
   "id": "4068b8bb",
   "metadata": {},
   "outputs": [],
   "source": [
    "S3=\"shweTA\""
   ]
  },
  {
   "cell_type": "code",
   "execution_count": 81,
   "id": "145e9511",
   "metadata": {},
   "outputs": [
    {
     "data": {
      "text/plain": [
       "'shweTA'"
      ]
     },
     "execution_count": 81,
     "metadata": {},
     "output_type": "execute_result"
    }
   ],
   "source": [
    "S3.strip()"
   ]
  },
  {
   "cell_type": "code",
   "execution_count": 82,
   "id": "7dc4c0f0",
   "metadata": {},
   "outputs": [
    {
     "data": {
      "text/plain": [
       "['s', 'h', 'w', 'e', 't', 'a']"
      ]
     },
     "execution_count": 82,
     "metadata": {},
     "output_type": "execute_result"
    }
   ],
   "source": [
    "list(str.strip(\" \"))"
   ]
  },
  {
   "cell_type": "code",
   "execution_count": 70,
   "id": "ec1e940a",
   "metadata": {},
   "outputs": [],
   "source": [
    "n=list(str.strip(\" \"))"
   ]
  },
  {
   "cell_type": "code",
   "execution_count": 71,
   "id": "4b216631",
   "metadata": {},
   "outputs": [
    {
     "data": {
      "text/plain": [
       "['s', 'h', 'w', 'e', 't', 'a']"
      ]
     },
     "execution_count": 71,
     "metadata": {},
     "output_type": "execute_result"
    }
   ],
   "source": [
    "n"
   ]
  },
  {
   "cell_type": "code",
   "execution_count": 72,
   "id": "1c3fde73",
   "metadata": {},
   "outputs": [
    {
     "data": {
      "text/plain": [
       "list"
      ]
     },
     "execution_count": 72,
     "metadata": {},
     "output_type": "execute_result"
    }
   ],
   "source": [
    "type(n)"
   ]
  },
  {
   "cell_type": "code",
   "execution_count": 73,
   "id": "9a137106",
   "metadata": {},
   "outputs": [
    {
     "data": {
      "text/plain": [
       "['s', 'h', 'w', 'R ', 't', 'a']"
      ]
     },
     "execution_count": 73,
     "metadata": {},
     "output_type": "execute_result"
    }
   ],
   "source": [
    "n[-3]= \"R \"\n",
    "n\n"
   ]
  },
  {
   "cell_type": "markdown",
   "id": "1895a64f",
   "metadata": {},
   "source": [
    "# OR"
   ]
  },
  {
   "cell_type": "code",
   "execution_count": 89,
   "id": "4f30899e",
   "metadata": {},
   "outputs": [],
   "source": [
    "str1 = \"shweta\""
   ]
  },
  {
   "cell_type": "code",
   "execution_count": 90,
   "id": "9681669f",
   "metadata": {
    "scrolled": false
   },
   "outputs": [
    {
     "data": {
      "text/plain": [
       "'shw*ta'"
      ]
     },
     "execution_count": 90,
     "metadata": {},
     "output_type": "execute_result"
    }
   ],
   "source": [
    "str1.replace(\"e\", \"*\")"
   ]
  },
  {
   "cell_type": "markdown",
   "id": "1440a6ed",
   "metadata": {},
   "source": [
    "# 10 . Try  to give a defination of string center function with and exmple "
   ]
  },
  {
   "cell_type": "code",
   "execution_count": 1,
   "id": "069348d3",
   "metadata": {},
   "outputs": [],
   "source": []
  },
  {
   "cell_type": "code",
   "execution_count": null,
   "id": "ca736539",
   "metadata": {},
   "outputs": [],
   "source": []
  },
  {
   "cell_type": "markdown",
   "id": "99817f64",
   "metadata": {},
   "source": [
    "This function is used to add(or padd) certain special charater before and after the string so that the desire string is at centre with the given width. Return a centered string of length width.\n",
    "syntax :string.center(width, fillchar=' ', /)\n"
   ]
  },
  {
   "cell_type": "code",
   "execution_count": 5,
   "id": "08014feb",
   "metadata": {},
   "outputs": [],
   "source": [
    "s=\"shweta\""
   ]
  },
  {
   "cell_type": "code",
   "execution_count": 9,
   "id": "7c0b96f6",
   "metadata": {},
   "outputs": [
    {
     "data": {
      "text/plain": [
       "'*******shweta*******'"
      ]
     },
     "execution_count": 9,
     "metadata": {},
     "output_type": "execute_result"
    }
   ],
   "source": [
    "y=s.center (20,'*')\n",
    "y"
   ]
  },
  {
   "cell_type": "markdown",
   "id": "31e6c151",
   "metadata": {},
   "source": [
    "# 11 . Write your own definition of compiler and interpretor without copy paste form internet in your own language"
   ]
  },
  {
   "cell_type": "markdown",
   "id": "c84c8e72",
   "metadata": {},
   "source": [
    "Compiler: It is a computer software that translates  source code written in a high-level language  into a machine-language instructions that can be understand by a digital computer's CPU. Compilers are very large programs, with error-checking and other abilities.\n",
    "A compiler translates the entire source code in a single run.\n",
    "It consumes less time.\n",
    "\n",
    "Interpreter: It  translates the entire source code line by line.\n",
    "It consumes much more time than the compiler.It is slower than the compiler."
   ]
  },
  {
   "cell_type": "markdown",
   "id": "221face0",
   "metadata": {},
   "source": [
    "# 12 . Python is a interpreted of compiled language give a clear ans with your understanding"
   ]
  },
  {
   "cell_type": "markdown",
   "id": "82d2d6f9",
   "metadata": {},
   "source": [
    "Python is a interpreted of compiled language because Python code is fast to develop but not fast in execution Since the code is not directly compiled and executed and an additional layer of the Python virtual machine is responsible for execution, Python code runs a little slow as compared to conventional languages like C, C + +, etc."
   ]
  },
  {
   "cell_type": "markdown",
   "id": "60ab7cea",
   "metadata": {},
   "source": [
    "# 13 . Try to write a usecase of python with your understanding ."
   ]
  },
  {
   "cell_type": "markdown",
   "id": "80340d57",
   "metadata": {},
   "source": [
    "This language is simple to learn Data scientists use Python to extract, process and manipulate data via various Python librarie.\n",
    "\n",
    "AI Field: Python can easily handle the computations necessary to create machine learning models and is responsible for creating many advanced applications, such as emotion detection,surveillance systems, robots etc.\n",
    "\n",
    "Game development:Python is often used by developers for building tree-based algorithms and designing game levels.\n",
    " Image Processing\n",
    " Robotics\n",
    " VLSI Design etc \n"
   ]
  },
  {
   "cell_type": "code",
   "execution_count": null,
   "id": "55d485d8",
   "metadata": {},
   "outputs": [],
   "source": []
  }
 ],
 "metadata": {
  "kernelspec": {
   "display_name": "Python 3 (ipykernel)",
   "language": "python",
   "name": "python3"
  },
  "language_info": {
   "codemirror_mode": {
    "name": "ipython",
    "version": 3
   },
   "file_extension": ".py",
   "mimetype": "text/x-python",
   "name": "python",
   "nbconvert_exporter": "python",
   "pygments_lexer": "ipython3",
   "version": "3.9.7"
  }
 },
 "nbformat": 4,
 "nbformat_minor": 5
}
